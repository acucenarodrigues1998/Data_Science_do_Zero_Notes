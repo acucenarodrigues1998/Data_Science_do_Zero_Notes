{
 "cells": [
  {
   "cell_type": "markdown",
   "metadata": {},
   "source": [
    "# 4. Álgebra Linear\n",
    "\n",
    "A Álgebra Linear é o ramo da matemática que lida com espaços vetoriais.\n",
    "\n",
    "### Vetores\n",
    "\n",
    "* Abstratamente, vetores são objetos que podem ser somados juntos (para formar vetores novos) e que podem ser multiplicados pelos escalares também para formar vetores novos.\n",
    "* Concretamente, vetores são pontos em algum espaço de dimensão finita. Ótima maneira de representar dados numéricos. Podem ter múltiplas dimensões.\n",
    "\n",
    "A abordagem inicial é a representação de vetores como listas de objetos (Abordagem excelente para a exposição mas, péssima para o desempenho):"
   ]
  },
  {
   "cell_type": "code",
   "execution_count": 1,
   "metadata": {},
   "outputs": [],
   "source": [
    "# Uma lista de 3 objetos correspondendo a um vetor tridimensional\n",
    "height_weight_age = [70,\n",
    "                    170,\n",
    "                    40]\n",
    "\n",
    "# Uma com 4 correspondendo a um vetor quadrimensional\n",
    "grades = [95,\n",
    "         80,\n",
    "         75,\n",
    "         62]"
   ]
  },
  {
   "cell_type": "markdown",
   "metadata": {},
   "source": [
    "* Essa abordagem possui um problema:\n",
    "  * Queremos realizar a aritmética entre vetores\n",
    "  * Listas em Python não são vetores e, portanto, não facilitam a aritmética\n",
    "  * Então, será necessário construir as funções aritméticas.\n",
    "  \n",
    "\n",
    "* Frequentemente são necessários 2 vetores.\n",
    "* Essas operações em vetores são feitas componente a componente. Isso implica na necessidade de os dois possuírem o mesmo tamanho.\n",
    "\n",
    "\n",
    "* Abaixo são implementadas operações com vetores:"
   ]
  },
  {
   "cell_type": "code",
   "execution_count": 13,
   "metadata": {},
   "outputs": [],
   "source": [
    "# Soma entre dois vetores:\n",
    "def vector_add(v,w):\n",
    "    return [v_i + w_i\n",
    "           for v_i, w_i in zip(v,w)]\n",
    "\n",
    "# Subtração entre dois vetores:\n",
    "def vector_subtract(v,w):\n",
    "    return [v_i - w_i\n",
    "           for v_i, w_i in zip(v,w)]\n",
    "\n",
    "# Somatório de uma lista de vetores\n",
    "def vector_sum(vectors):\n",
    "    return reduce(vector_add, vectors)\n",
    "\n",
    "# Multiplicação de vetor por escalar\n",
    "def scalar_multiply(c, v):\n",
    "    return [c * v_i for v_i in v]\n",
    "\n",
    "# Média de uma lista de vetores\n",
    "def vector_mean(vectors):\n",
    "    n = len(vectors)\n",
    "    return scalar_multiply(1/n, vector_sum(vectors))\n",
    "\n",
    "# Produto escalar. Somatório dos produtos componente a componente\n",
    "def dot(v, w):\n",
    "    return sum(v_i * w_i\n",
    "           for v_i, w_i in zip(v,w))\n",
    "\n",
    "# Somatório dos quadrados do vetor\n",
    "def sum_of_squares(v):\n",
    "    return dot(v,v)\n",
    "\n",
    "# Magnitude (ou tamanho)\n",
    "import math\n",
    "def magnitude(v):\n",
    "    return math.sqrt(sum_of_squares(v))\n",
    "\n",
    "# Distância entre dois vetores\n",
    "def distance(v,w):\n",
    "    return magnitude(vector_subtract(v,w))"
   ]
  },
  {
   "cell_type": "markdown",
   "metadata": {},
   "source": [
    "### Matrizes\n",
    "\n",
    "* Uma matriz é uma coleção de números bidimensional.\n",
    "* Aqui serão representadas por listas de listas.\n",
    "* Cada lista interior possui o mesmo tamanho das outras e representa uma linha da matriz. \n",
    "* Se A é a matriz, A[ i ][ j ] é o elemento da i-ésima linha e da j-ésima coluna.\n",
    "\n",
    "São exemplos de matrizes:"
   ]
  },
  {
   "cell_type": "code",
   "execution_count": 14,
   "metadata": {},
   "outputs": [],
   "source": [
    "A = [[1,2,3], # A matriz A possui 2 linhas e 3 colunas\n",
    "    [4,5,6]]\n",
    "\n",
    "B = [[1,2], # A martiz B possui 3 linhas e 2 colunas\n",
    "     [3,4],\n",
    "     [5,6]]"
   ]
  },
  {
   "cell_type": "markdown",
   "metadata": {},
   "source": [
    "* Levando em consideração a representação de listas de listas, o shape da matriz é dado por:\n",
    "  * Linhas = len(A)\n",
    "  * Colunas = len(A[0])\n",
    "  \n",
    "  \n",
    "* Com isso, temos:"
   ]
  },
  {
   "cell_type": "code",
   "execution_count": 15,
   "metadata": {},
   "outputs": [],
   "source": [
    "def shape(A):\n",
    "    num_rows = len(A)\n",
    "    num_cols = len(A[0]) if A else 0\n",
    "    return num_rows, num_cols"
   ]
  },
  {
   "cell_type": "markdown",
   "metadata": {},
   "source": [
    "* Se uma matriz possui n linhas e k colunas, matriz n x k, pode-se pensar em cada linha e cada coluna dessa matriz como um vetor. "
   ]
  },
  {
   "cell_type": "code",
   "execution_count": 16,
   "metadata": {},
   "outputs": [],
   "source": [
    "# Pegando uma linha da matriz\n",
    "def get_row(A, i):\n",
    "    return A[i]\n",
    "\n",
    "# Pegando uma coluna da matriz\n",
    "def get_column(A, j):\n",
    "    return [A_i[j] \n",
    "            for A_i in A]"
   ]
  },
  {
   "cell_type": "code",
   "execution_count": 17,
   "metadata": {},
   "outputs": [],
   "source": [
    "# Função para criar uma matriz\n",
    "def make_matrix(num_rows, num_cols, entry_fn):\n",
    "    return [[entry_fn(i, j)\n",
    "            for j in range(num_cols)] \n",
    "            for i in range(num_rows)]"
   ]
  },
  {
   "cell_type": "code",
   "execution_count": 18,
   "metadata": {},
   "outputs": [],
   "source": [
    "# Função para criar matriz identidade\n",
    "def is_diagonal(i, j):\n",
    "    \"\"\"1's na diagonal, 0's nos demais lugares\"\"\"\n",
    "    return 1 if i == j else 0"
   ]
  },
  {
   "cell_type": "code",
   "execution_count": 19,
   "metadata": {},
   "outputs": [
    {
     "data": {
      "text/plain": [
       "[[1, 0, 0, 0, 0],\n",
       " [0, 1, 0, 0, 0],\n",
       " [0, 0, 1, 0, 0],\n",
       " [0, 0, 0, 1, 0],\n",
       " [0, 0, 0, 0, 1]]"
      ]
     },
     "execution_count": 19,
     "metadata": {},
     "output_type": "execute_result"
    }
   ],
   "source": [
    "make_matrix(5,5,is_diagonal)"
   ]
  },
  {
   "cell_type": "markdown",
   "metadata": {},
   "source": [
    "### Livros de Álgebra Linear\n",
    "\n",
    "Alguns materiais para aprofundar no tema:\n",
    "\n",
    "* Linear Algebra, da UC Davis (http://bit.ly/1ycOq96)\n",
    "* Linear Algebra, do Saint Michael’s College (http://bit.ly/1ycOpSF)\n",
    "* Se gostar de aventuras, Linear Algebra Done Wrong (http://bit.ly/1ycOt4W) é um livro com uma introdução mais avançada"
   ]
  }
 ],
 "metadata": {
  "kernelspec": {
   "display_name": "Python 3",
   "language": "python",
   "name": "python3"
  },
  "language_info": {
   "codemirror_mode": {
    "name": "ipython",
    "version": 3
   },
   "file_extension": ".py",
   "mimetype": "text/x-python",
   "name": "python",
   "nbconvert_exporter": "python",
   "pygments_lexer": "ipython3",
   "version": "3.7.4"
  }
 },
 "nbformat": 4,
 "nbformat_minor": 2
}
