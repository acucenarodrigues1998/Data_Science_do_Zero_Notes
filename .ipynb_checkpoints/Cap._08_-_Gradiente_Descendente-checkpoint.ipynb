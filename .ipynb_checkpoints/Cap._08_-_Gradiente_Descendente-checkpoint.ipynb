{
 "cells": [
  {
   "cell_type": "markdown",
   "metadata": {},
   "source": [
    "# 8. Gradiente Descendente\n",
    "\n",
    "### A ideia por trás do Gradiente Descendente\n",
    "\n",
    "* Suponha que tenhamos a função f que tem como entrada um vetor de números reais e exibe, como saída, um único número real. \n",
    "* Tal função simples é:"
   ]
  },
  {
   "cell_type": "code",
   "execution_count": 2,
   "metadata": {},
   "outputs": [],
   "source": [
    "def sum_of_squares(v):\n",
    "    return sum(v_i**2 for v_i in v)"
   ]
  },
  {
   "cell_type": "markdown",
   "metadata": {},
   "source": [
    "* Com frequência será necessário maximizar ou minimizar tais funções.\n",
    "* Para funções como essa, o gradiente mostra a direção da entrada em que a função cresce mais rapidamente.\n",
    "* Uma abordagem para maximizar uma função é:\n",
    "  * Pegar um ponto de início aleatório;\n",
    "  * Computar o gradiente;\n",
    "  * Andar um pequeno passo na direção do gradiente e;\n",
    "  * Repetir com o novo ponto inicial.\n",
    "  \n",
    "  \n",
    "* Para minimizar, são realizados os mesmos passos na direção oposta.\n",
    "\n",
    "![Maximizando grad. descendente](Imgs/Minimization_image.png)\n",
    "\n",
    "### Estimando o gradiente\n",
    "\n",
    "* Se f é uma função de uma variável, sua derivada em um ponto x indica como f(x) muda quando fazemos uma mudança bem pequena em x.\n",
    "* Definida como limite de quocientes diferenciais:"
   ]
  },
  {
   "cell_type": "code",
   "execution_count": 3,
   "metadata": {},
   "outputs": [],
   "source": [
    "def difference_quotient(f,x,h):\n",
    "    return (f(x+h)-f(x))/h"
   ]
  },
  {
   "cell_type": "markdown",
   "metadata": {},
   "source": [
    "![aproximando derivada](Imgs/apx_deriv.png)\n",
    "\n",
    "* A derivada é a inclinação da linha tangente em (x, f(x)).\n",
    "* O quociente diferencial é a inclinação da linha-não-tão-tangente que passa por (x+h, f(x+h)).\n",
    "* Conforme h diminui, a linha-não-tão-tangente vai ficando mais próxima da linha tangente.\n",
    "* Para muitas funções é fácil calcular as derivadas com exatidão. \n",
    "* Exemplo:"
   ]
  },
  {
   "cell_type": "code",
   "execution_count": 4,
   "metadata": {},
   "outputs": [],
   "source": [
    "def square(x):\n",
    "    return x*x\n",
    "\n",
    "# E a derivada\n",
    "def derivative(x):\n",
    "    return 2*x"
   ]
  },
  {
   "cell_type": "markdown",
   "metadata": {},
   "source": [
    "* Podemos estimar derivadas ao avaliar o quociente diferencial por um pequeno $e$. Veja o gráfico abaixo."
   ]
  },
  {
   "cell_type": "code",
   "execution_count": 8,
   "metadata": {},
   "outputs": [
    {
     "data": {
      "image/png": "[encoded data removed]",
      "text/plain": [
       "<Figure size 432x288 with 1 Axes>"
      ]
     },
     "metadata": {
      "needs_background": "light"
     },
     "output_type": "display_data"
    }
   ],
   "source": [
    "derivative_estimate = lambda x: difference_quotient(square, x, h=0.00001)\n",
    "\n",
    "import matplotlib.pyplot as plt\n",
    "x = range(-10,10)\n",
    "plt.title(\"Actual Derivatives vs. Estimates\")\n",
    "plt.plot(x, list(map(derivative, x)), 'rx', label='Actual')\n",
    "plt.plot(x, list(map(derivative_estimate, x)), 'b+', label='Estimate') # azul +\n",
    "plt.legend(loc=9)\n",
    "plt.show()"
   ]
  },
  {
   "cell_type": "markdown",
   "metadata": {},
   "source": [
    "* Quando f é uma função de muitas variáveis, possui múltiplas derivadas parciais.\n",
    "* Cada derivada indica como f muda com pequenas mudanças em uma das variáveis.\n",
    "* Calcula-se a derivada parcial do i-ésimo ao tratar como uma função de apenas a i-ésima variável e depois podemos estimar o gradiente:"
   ]
  },
  {
   "cell_type": "code",
   "execution_count": 9,
   "metadata": {},
   "outputs": [],
   "source": [
    "def partial_difference_quotient(f, v, i, h):\n",
    "    # Computa o i-ésimo quociente diferencial parcial de f em v\n",
    "    w = [v_j + (h if j == i else 0)\n",
    "        for j, v_j in enumerate(v)]\n",
    "    \n",
    "    return (f(w)-f(v))/h\n",
    "\n",
    "def estimate_gradient(f, v, h=0.00001):\n",
    "    return [partial_difference_quotient(f,v,i,h)\n",
    "           for i,_ in enumerate(v)]"
   ]
  },
  {
   "cell_type": "markdown",
   "metadata": {},
   "source": [
    "### Usando o Gradiente\n",
    "\n",
    "* Usaremos os gradientes para encontrar o mínimo entre todos os vetores tridimensionais.\n",
    "* Pegaremos um ponto inicial aleatório e daremos pequenos passos na direção oposta do gradiente. \n",
    "* Será repetido até que cheguemos em um ponto em que o gradiente seja muito pequeno:"
   ]
  },
  {
   "cell_type": "code",
   "execution_count": 1,
   "metadata": {},
   "outputs": [],
   "source": [
    "# Funções auxiliares cap. 04 (Álgebra Linear)\n",
    "from Codigos.linear_algebra import vector_add, vector_subtract, vector_sum, vector_mean, dot, sum_of_squares, magnitude, distance"
   ]
  },
  {
   "cell_type": "code",
   "execution_count": 12,
   "metadata": {},
   "outputs": [
    {
     "name": "stdout",
     "output_type": "stream",
     "text": [
      "Coordenadas do ponto mínimo:  [-3.7009791374886747e-06, -2.3131119609304243e-06, 2.3131119609304243e-06]\n"
     ]
    }
   ],
   "source": [
    "import random\n",
    "def step(v, direction, step_size):\n",
    "    # Move step_size na direção a partir de v\n",
    "    return [v_i + step_size * direction_i\n",
    "           for v_i, direction_i in zip(v, direction)]\n",
    "\n",
    "def sum_of_squares_gradient(v):\n",
    "    return [2 * v_i for v_i in v]\n",
    "\n",
    "v = [random.randint(-10,10) for i in range(3)] # Coords Ponto inicial aleatório\n",
    "\n",
    "tolerance = 0.0000001\n",
    "\n",
    "while True:\n",
    "    gradient = sum_of_squares_gradient(v) # Computa o gradiente no ponto v\n",
    "    next_v = step(v, gradient, -0.01) # calcula um novo ponto\n",
    "    if distance(next_v, v) < tolerance: # para se estiver convergindo\n",
    "        break\n",
    "    v = next_v # Continua se não estiver\n",
    "    \n",
    "print(\"Coordenadas do ponto mínimo: \", v)"
   ]
  },
  {
   "cell_type": "markdown",
   "metadata": {},
   "source": [
    "### Escolhendo o tamanho do próximo passo\n",
    "\n",
    "* Existem 3 opções populares para escolher o tamanho do próximo passo do gradiente, são elas:\n",
    "  1. Usar um passo de tamanho fixo\n",
    "  2. Diminuir gradualmente o tamanho do passo a cada vez\n",
    "  3. A cada passo, escolher o tamanho do passo que minimize o valor da função objetiva.\n",
    "  \n",
    "  \n",
    "* A última opção, apesar de parecer perfeita, é uma computação custosa.\n",
    "* Pode-se aproximá-la ao tentar uma variedade de passos que resulte no menor valor da função objetiva: "
   ]
  },
  {
   "cell_type": "code",
   "execution_count": 13,
   "metadata": {},
   "outputs": [],
   "source": [
    "step_sizes = [100, 10, 1, 0.1, 0.01, 0.001, 0.0001, 0.00001]"
   ]
  },
  {
   "cell_type": "markdown",
   "metadata": {},
   "source": [
    "* É possível que alguns tamanhos resultem em entradas inválidas.\n",
    "* Para tal, é necessário criar uma função \"segura\" que retorna infinito para entradas inválidas:"
   ]
  },
  {
   "cell_type": "code",
   "execution_count": 14,
   "metadata": {},
   "outputs": [],
   "source": [
    "def safe(f):\n",
    "    def safe_f(*args, **kwargs):\n",
    "        try:\n",
    "            return f(*args, **kwargs)\n",
    "        except:\n",
    "            return float('inf')\n",
    "    return safe_f"
   ]
  },
  {
   "cell_type": "markdown",
   "metadata": {},
   "source": [
    "### Juntando tudo\n",
    "\n",
    "* No geral, temos alguma target_fn que queremos minimizar e também temos o seu gradient_fn.\n",
    "* Digamos que escolhemos um valor inicial para os parâmetros theta_0.\n",
    "* Podemos implementar o gradiente descendente como:"
   ]
  },
  {
   "cell_type": "code",
   "execution_count": 15,
   "metadata": {},
   "outputs": [],
   "source": [
    "def minimize_batch(target_fn, gradient_fn, theta_0, tolerance=0.000001):\n",
    "    step_sizes = [100, 10, 1, 0.1, 0.01, 0.001, 0.0001, 0.00001]\n",
    "    theta = theta_0\n",
    "    target_fn = safe(target_fn)\n",
    "    value = target_fn(theta)\n",
    "    \n",
    "    while True:\n",
    "        gradient = gradient_fn(theta)\n",
    "        next_thetas = [step(theta, gradient,-step_size) \n",
    "                       for step_size in step_sizes]\n",
    "        next_theta = min(next_thetas, key=target_fn)\n",
    "        next_value = target_fn(next_theta)\n",
    "        \n",
    "        if abs(value-next_value) < tolerance:\n",
    "            return theta\n",
    "        else:\n",
    "            theta, value = next_theta, next_value"
   ]
  },
  {
   "cell_type": "markdown",
   "metadata": {},
   "source": [
    "* Chamamos de minimize_batch porque, para cada passo do gradiente, ele considera o conjunto inteiro de dados.\n",
    "* Podemos maximizar uma função minimizando o seu negativo:"
   ]
  },
  {
   "cell_type": "code",
   "execution_count": 16,
   "metadata": {},
   "outputs": [],
   "source": [
    "def negate(f):\n",
    "    return lambda *args, **kwargs: -f(*args, **kwargs)\n",
    "\n",
    "def negate_all(f):\n",
    "    return lambda *args, **kwargs: [-y for y in f(*args, **kwargs)]\n",
    "\n",
    "def maximize_batch(target_fn, gradient_fn, theta_0, tolerance=0.000001):\n",
    "    return minimize_batch(negate(target_fn),\n",
    "                         negate_all(gradient_fn),\n",
    "                         theta_0,\n",
    "                         tolerance)"
   ]
  },
  {
   "cell_type": "markdown",
   "metadata": {},
   "source": [
    "### Gradiente Descendente Estocástico\n",
    "\n",
    "* Nas abordagens anteriores, cada passo gradiente requer façamos uma previsão e computemos o gradiente para o conjunto de dados inteiro.\n",
    "* Essa fuunções de erro normalmente são aditivas, ou seja, o erro previsto é a soma dos erros previstos para cada ponto.\n",
    "* O gradiente descendente estocástico computa o gradiente apenas um ponto de cada vez.\n",
    "* Circula os dados repetidamente até alcançar um ponto de parada.\n",
    "* Durante os ciclos, os dados são iterados de forma aleatória:"
   ]
  },
  {
   "cell_type": "code",
   "execution_count": 17,
   "metadata": {},
   "outputs": [],
   "source": [
    "def in_random_order(data):\n",
    "    indexes = [i for i, _ in enumerate(data)]\n",
    "    random.shuffle(indexes)\n",
    "    for i in indexes:\n",
    "        yield data[i]"
   ]
  },
  {
   "cell_type": "markdown",
   "metadata": {},
   "source": [
    "* Andaremos um passo gradiente para cada ponto de dados.\n",
    "* O método permite que circulemos o ponto mínimo até que paremos de obter melhorias. \n",
    "* A partir de então, diminuiremos o passo até o ponto de parada:"
   ]
  },
  {
   "cell_type": "code",
   "execution_count": 18,
   "metadata": {},
   "outputs": [],
   "source": [
    "def minimize_stochastic(target_fn, gradient_fn, x, y, theta_0, alpha_0=0.01):\n",
    "    data = zip(x, y)\n",
    "    theta = theta_0 # palpite inicial\n",
    "    alpha = alpha_0 # tamanho do passo inicial\n",
    "    min_theta, min_value = None, float(\"inf\") # o mínimo até agora\n",
    "    iterations_with_no_improvement = 0\n",
    "    \n",
    "    # se formos até 100 iterações sem melhorias, paramos\n",
    "    while iterations_with_no_improvement < 100:\n",
    "        value = sum( target_fn(x_i, y_i, theta) for x_i, y_i in data )\n",
    "    \n",
    "    if value < min_value:\n",
    "        # se achou um novo mínimo, lembre-se\n",
    "        # e volte para o tamanho do passo original\n",
    "        min_theta, min_value = theta, value\n",
    "        iterations_with_no_improvement = 0\n",
    "        alpha = alpha_0\n",
    "    else:\n",
    "        # do contrário, não estamos melhorando, portanto tente\n",
    "        # diminuir o tamanho do passo\n",
    "        iterations_with_no_improvement += 1\n",
    "        alpha *= 0.9\n",
    "        \n",
    "        # e ande um passo gradiente para todos os pontos de dados\n",
    "        for x_i, y_i in in_random_order(data):\n",
    "            gradient_i = gradient_fn(x_i, y_i, theta)\n",
    "            theta = vector_subtract(theta, scalar_multiply(alpha, gradient_i))\n",
    "            \n",
    "    return min_theta"
   ]
  },
  {
   "cell_type": "markdown",
   "metadata": {},
   "source": [
    "* A versão estocástica será tipicamente mais rápida que a versão batch.\n",
    "* Uma função que maximiza:"
   ]
  },
  {
   "cell_type": "code",
   "execution_count": 19,
   "metadata": {},
   "outputs": [],
   "source": [
    "def maximize_stochastic(target_fn, gradient_fn, x, y, theta_0, alpha_0=0.01):\n",
    "    return minimize_stochastic(negate(target_fn), \n",
    "                               negate_all(gradient_fn), \n",
    "                               x, y, theta_0, alpha_0=0.01)"
   ]
  }
 ],
 "metadata": {
  "kernelspec": {
   "display_name": "Python 3",
   "language": "python",
   "name": "python3"
  },
  "language_info": {
   "codemirror_mode": {
    "name": "ipython",
    "version": 3
   },
   "file_extension": ".py",
   "mimetype": "text/x-python",
   "name": "python",
   "nbconvert_exporter": "python",
   "pygments_lexer": "ipython3",
   "version": "3.7.4"
  }
 },
 "nbformat": 4,
 "nbformat_minor": 2
}
