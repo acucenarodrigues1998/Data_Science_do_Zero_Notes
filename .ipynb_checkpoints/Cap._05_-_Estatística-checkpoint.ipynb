{
 "cells": [
  {
   "cell_type": "markdown",
   "metadata": {},
   "source": [
    "# 5. Estatística\n",
    "\n",
    "* A estatística se refere à matemática e às técnicas com as quais entendemos os dados.\n",
    "\n",
    "### Descrevendo um Conjunto Único de Dados\n",
    "\n",
    "* Uma descrição evidente de qualquer dado é simplesmente o dado em si\n",
    "  * Em um conjunto pequeno de dados, pode ser a melhor representação.\n",
    "  * Para grandes conjuntos de dados, é uma visualização complicada e confusa.\n",
    "\n",
    "\n",
    "* Uma melhor forma para descrever esses dados é a utilização da estatística"
   ]
  },
  {
   "cell_type": "code",
   "execution_count": 1,
   "metadata": {},
   "outputs": [],
   "source": [
    "num_friends = [100,49,41,40,25,21,21,19,19,18,18,16,15,15,\n",
    "               15,15,14,14,13,13,13,13,12,12,11,10,10,10,10,\n",
    "               10,10,10,10,10,10,10,10,10,10,10,9,9,9,9,9,9,\n",
    "               9,9,9,9,9,9,9,9,9,9,9,9,8,8,8,8,8,8,8,8,8,8,8,\n",
    "               8,8,7,7,7,7,7,7,7,7,7,7,7,7,7,7,7,6,6,6,6,6,6,\n",
    "               6,6,6,6,6,6,6,6,6,6,6,6,6,6,6,6,5,5,5,5,5,5,5,5,\n",
    "               5,5,5,5,5,5,5,5,5,4,4,4,4,4,4,4,4,4,4,4,4,4,4,4,\n",
    "               4,4,4,4,4,3,3,3,3,3,3,3,3,3,3,3,3,3,3,3,3,3,3,3,\n",
    "               3,2,2,2,2,2,2,2,2,2,2,2,2,2,2,2,2,2,1,1,1,1,1,1,\n",
    "               1,1,1,1,1,1,1,1,1,1,1,1,1,1,1,1]"
   ]
  },
  {
   "cell_type": "code",
   "execution_count": 1,
   "metadata": {},
   "outputs": [],
   "source": [
    "# Funções auxiliares\n",
    "from Codigos.linear_algebra import vector_add, vector_subtract, vector_sum, scalar_multiply, vector_mean, dot, sum_of_squares, magnitude, distance"
   ]
  },
  {
   "cell_type": "markdown",
   "metadata": {},
   "source": [
    "* Iniciamos com a contagem dos amigos usando Counter e gerando um histograma: "
   ]
  },
  {
   "cell_type": "code",
   "execution_count": 3,
   "metadata": {},
   "outputs": [
    {
     "data": {
      "image/png": "[encoded data removed]",
      "text/plain": [
       "<Figure size 432x288 with 1 Axes>"
      ]
     },
     "metadata": {
      "needs_background": "light"
     },
     "output_type": "display_data"
    }
   ],
   "source": [
    "%matplotlib inline\n",
    "from collections import Counter\n",
    "import matplotlib.pyplot as plt\n",
    "\n",
    "friend_counts = Counter(num_friends)\n",
    "xs = range(101)\n",
    "ys = [friend_counts[x] for x in xs]\n",
    "plt.bar(xs,ys)\n",
    "plt.axis([0,101,0,25])\n",
    "plt.title(\"Histograma de Contagem de Amigos\")\n",
    "plt.xlabel(\"# de amigos\")\n",
    "plt.ylabel(\"# de pessoas\")\n",
    "\n",
    "plt.show()"
   ]
  },
  {
   "cell_type": "markdown",
   "metadata": {},
   "source": [
    "* O gráfico gerado ainda é confuso. \n",
    "* Para melhorar a interpretação dos dados, serão geradas algumas estatísticas."
   ]
  },
  {
   "cell_type": "code",
   "execution_count": 4,
   "metadata": {},
   "outputs": [
    {
     "name": "stdout",
     "output_type": "stream",
     "text": [
      "Número de pontos de dados:  204\n",
      "Maior valor:  100 \n",
      "Menor valor:  1\n",
      "Segundo maior valor: 49\n",
      "Segundo menor valor: 1\n"
     ]
    }
   ],
   "source": [
    "# Número de pontos nos dados\n",
    "num_points = len(num_friends)\n",
    "print(\"Número de pontos de dados: \", num_points)\n",
    "\n",
    "# Maior e menor valor\n",
    "largest_value = max(num_friends)\n",
    "smallest_value = min(num_friends)\n",
    "print(\"Maior valor: \", largest_value, \"\\nMenor valor: \", smallest_value)\n",
    "\n",
    "# Valores em posições específicas\n",
    "sorted_values = sorted(num_friends)\n",
    "smallest_value = sorted_values[0] # 1\n",
    "second_smallest_value = sorted_values[1] # 1\n",
    "second_largest_value = sorted_values[-2] # 49\n",
    "print(\"Segundo maior valor: {}\".format(second_largest_value))\n",
    "print(\"Segundo menor valor: {}\".format(second_smallest_value))"
   ]
  },
  {
   "cell_type": "markdown",
   "metadata": {},
   "source": [
    "### Tendências Centrais\n",
    "\n",
    "* Queremos ter alguma noção de onde os nossos dados estão centrados.\n",
    "\n",
    "* Média\n",
    "  * Soma dos dados divididos pela sua contagem\n",
    "  * Com dois pontos de dados, a média é o meio do caminho entre eles. \n",
    "  * Além da quantidade dos dados, também depende do valor.\n",
    "  * Mais fácil de computar.\n",
    "  * Varia de modo mais suave conforme os dados mudam.\n",
    "  "
   ]
  },
  {
   "cell_type": "code",
   "execution_count": 5,
   "metadata": {},
   "outputs": [
    {
     "data": {
      "text/plain": [
       "7.333333333333333"
      ]
     },
     "execution_count": 5,
     "metadata": {},
     "output_type": "execute_result"
    }
   ],
   "source": [
    "def mean(x):\n",
    "    return sum(x)/len(x)\n",
    "\n",
    "mean(num_friends)"
   ]
  },
  {
   "cell_type": "markdown",
   "metadata": {},
   "source": [
    "* Mediana\n",
    "  * Valor maior do meio (quantidade impar de dados) ou a média dos dois valores do meio (par).\n",
    "  * Não depende de cada valor dos dados"
   ]
  },
  {
   "cell_type": "code",
   "execution_count": 6,
   "metadata": {},
   "outputs": [
    {
     "data": {
      "text/plain": [
       "6.0"
      ]
     },
     "execution_count": 6,
     "metadata": {},
     "output_type": "execute_result"
    }
   ],
   "source": [
    "def median(v):\n",
    "    n = len(v)\n",
    "    sorted_v = sorted(v)\n",
    "    midpoint = n//2\n",
    "    \n",
    "    if n%2 == 1:\n",
    "        return sorted_v[midpoint]\n",
    "    else:\n",
    "        lo = midpoint-1\n",
    "        hi = midpoint\n",
    "        return (sorted_v[lo]+sorted_v[hi])/2\n",
    "    \n",
    "median(num_friends)"
   ]
  },
  {
   "cell_type": "markdown",
   "metadata": {},
   "source": [
    "* A média é muito sensível a valores discrepantes nos dados.\n",
    "* Se esses valores discrepantes tem a possibilidade de ser valores ruins, então a média pode levar a um engano.\n",
    "* Uma generalização da média é o quantil:\n",
    "  * Representa o valor abaixo do qual a uma porcentagem dos dados se encontra.\n",
    "  * A mediana é o valor abaixo do qual se encontram 50% dos dados."
   ]
  },
  {
   "cell_type": "code",
   "execution_count": 7,
   "metadata": {},
   "outputs": [],
   "source": [
    "def quantile(x,p):\n",
    "    p_index = int(p*len(x))\n",
    "    return sorted(x)[p_index]"
   ]
  },
  {
   "cell_type": "code",
   "execution_count": 8,
   "metadata": {},
   "outputs": [
    {
     "data": {
      "text/plain": [
       "1"
      ]
     },
     "execution_count": 8,
     "metadata": {},
     "output_type": "execute_result"
    }
   ],
   "source": [
    "quantile(num_friends, 0.10)"
   ]
  },
  {
   "cell_type": "code",
   "execution_count": 9,
   "metadata": {},
   "outputs": [
    {
     "data": {
      "text/plain": [
       "3"
      ]
     },
     "execution_count": 9,
     "metadata": {},
     "output_type": "execute_result"
    }
   ],
   "source": [
    "quantile(num_friends, 0.25)"
   ]
  },
  {
   "cell_type": "code",
   "execution_count": 10,
   "metadata": {},
   "outputs": [
    {
     "data": {
      "text/plain": [
       "9"
      ]
     },
     "execution_count": 10,
     "metadata": {},
     "output_type": "execute_result"
    }
   ],
   "source": [
    "quantile(num_friends, 0.75)"
   ]
  },
  {
   "cell_type": "code",
   "execution_count": 11,
   "metadata": {},
   "outputs": [
    {
     "data": {
      "text/plain": [
       "13"
      ]
     },
     "execution_count": 11,
     "metadata": {},
     "output_type": "execute_result"
    }
   ],
   "source": [
    "quantile(num_friends, 0.90)"
   ]
  },
  {
   "cell_type": "markdown",
   "metadata": {},
   "source": [
    "* Moda\n",
    "  * Valores mais comuns\n"
   ]
  },
  {
   "cell_type": "code",
   "execution_count": 12,
   "metadata": {},
   "outputs": [],
   "source": [
    "def mode(x):\n",
    "    counts = Counter(x)\n",
    "    max_count = max(counts.values())\n",
    "    return [x_i for x_i, count in counts.items()\n",
    "           if count == max_count]"
   ]
  },
  {
   "cell_type": "code",
   "execution_count": 13,
   "metadata": {},
   "outputs": [
    {
     "data": {
      "text/plain": [
       "[6, 1]"
      ]
     },
     "execution_count": 13,
     "metadata": {},
     "output_type": "execute_result"
    }
   ],
   "source": [
    "mode(num_friends)"
   ]
  },
  {
   "cell_type": "markdown",
   "metadata": {},
   "source": [
    "### Dispersão\n",
    "\n",
    "* Refere-se a medida de como os dados estão espalhados.\n",
    "* Valores mais próxmis de zero, os dados não estão tão espalhado e valores maiores indicam que estão muito espalhados.\n",
    "* Amplitude\n",
    "  * Diferença entre o maior e o menor elemento.\n",
    "  * É zero quando o max e o min são iguais. Significa que os dados estão o menos dispersos possível.\n",
    "  * Se a amplitude é um valor muito alto, o max é bem maior que o min e significa que os dado estão mais espalhados.\n",
    "  * Não depende de todo o conjunto de dados."
   ]
  },
  {
   "cell_type": "code",
   "execution_count": 14,
   "metadata": {},
   "outputs": [
    {
     "data": {
      "text/plain": [
       "99"
      ]
     },
     "execution_count": 14,
     "metadata": {},
     "output_type": "execute_result"
    }
   ],
   "source": [
    "# Amplitude\n",
    "def data_range(x):\n",
    "    return max(x)-min(x)\n",
    "\n",
    "data_range(num_friends)"
   ]
  },
  {
   "cell_type": "markdown",
   "metadata": {},
   "source": [
    "* Variância\n",
    "  * Um pouco mais complexa que a amplitude.\n",
    "  * Indica quanto uma variável desvia de sua média.\n",
    "  * Possui unidades ao quadrado, ou seja, outras medidas de dispersão possuem a mesma unidade, a variância possui essas unidade ao quadrado."
   ]
  },
  {
   "cell_type": "code",
   "execution_count": 15,
   "metadata": {},
   "outputs": [
    {
     "data": {
      "text/plain": [
       "81.54351395730716"
      ]
     },
     "execution_count": 15,
     "metadata": {},
     "output_type": "execute_result"
    }
   ],
   "source": [
    "# Cálculo dos desvios\n",
    "def de_mean(x):\n",
    "    x_bar = mean(x)\n",
    "    return [x_i -x_bar for x_i in x]\n",
    "\n",
    "# Cálculo da variância\n",
    "def variance(x):\n",
    "    n = len(x)\n",
    "    deviations = de_mean(x)\n",
    "    return sum_of_squares(deviations)/(n-1)\n",
    "\n",
    "variance(num_friends)"
   ]
  },
  {
   "cell_type": "markdown",
   "metadata": {},
   "source": [
    "* Desvio Padrão"
   ]
  },
  {
   "cell_type": "code",
   "execution_count": 16,
   "metadata": {},
   "outputs": [
    {
     "data": {
      "text/plain": [
       "9.03014473623248"
      ]
     },
     "execution_count": 16,
     "metadata": {},
     "output_type": "execute_result"
    }
   ],
   "source": [
    "# Cálculo do desvio padrão\n",
    "def standard_deviation(x):\n",
    "    return math.sqrt(variance(x))\n",
    "\n",
    "standard_deviation(num_friends)"
   ]
  },
  {
   "cell_type": "markdown",
   "metadata": {},
   "source": [
    "* Diferença interquartil\n",
    "  * Computa a diferença entre os percentos 75 e 25%.\n",
    "  * Não é afetado por uma pequena quantidade de valores discrepantes."
   ]
  },
  {
   "cell_type": "code",
   "execution_count": 17,
   "metadata": {},
   "outputs": [
    {
     "data": {
      "text/plain": [
       "6"
      ]
     },
     "execution_count": 17,
     "metadata": {},
     "output_type": "execute_result"
    }
   ],
   "source": [
    "# Cálculo da diferença interquartil\n",
    "def interquartile_range(x):\n",
    "    return quantile(x, 0.75)-quantile(x, 0.25)\n",
    "\n",
    "interquartile_range(num_friends)"
   ]
  },
  {
   "cell_type": "markdown",
   "metadata": {},
   "source": [
    "### Correlação\n",
    "\n",
    "A vice-presidente de Crescimento na DataSciencester tem uma teoria que a quantidade de tempo gasto pelas pessoas no site é relacionada ao número de amigos que elas possuem (ela não é uma vice presidente à toa), e ela pediu para você verificar isso.\n",
    "\n",
    "Após examinar os registros do tráfego, você desenvolve uma lista daily_minutes que mostra quantos minutos por dia cada usuário passa na DataSciencester e você havia ordenado essa lista para que seus elementos correspondessem aos elementos da lista anterior num_ friends . Gostaríamos de investigar a relação entre essas duas métricas.\n"
   ]
  },
  {
   "cell_type": "code",
   "execution_count": 18,
   "metadata": {},
   "outputs": [],
   "source": [
    "daily_minutes = [1,68.77,51.25,52.08,38.36,44.54,57.13,51.4,\n",
    "                 41.42,31.22,34.76,54.01,38.79,47.59,49.1,27.66,\n",
    "                 41.03,36.73,48.65,28.12,46.62,35.57,32.98,35,\n",
    "                 26.07,23.77,39.73,40.57,31.65,31.21,36.32,20.45,\n",
    "                 21.93,26.02,27.34,23.49,46.94,30.5,33.8,24.23,21.4,\n",
    "                 27.94,32.24,40.57,25.07,19.42,22.39,18.42,46.96,\n",
    "                 23.72,26.41,26.97,36.76,40.32,35.02,29.47,30.2,31,\n",
    "                 38.11,38.18,36.31,21.03,30.86,36.07,28.66,29.08,\n",
    "                 37.28,15.28,24.17,22.31,30.17,25.53,19.85,35.37,44.6,\n",
    "                 17.23,13.47,26.33,35.02,32.09,24.81,19.33,28.77,24.26,\n",
    "                 31.98,25.73,24.86,16.28,34.51,15.23,39.72,40.8,26.06,\n",
    "                 35.76,34.76,16.13,44.04,18.03,19.65,32.62,35.59,39.43,\n",
    "                 14.18,35.24,40.13,41.82,35.45,36.07,43.67,24.61,20.9,\n",
    "                 21.9,18.79,27.61,27.21,26.61,29.77,20.59,27.53,13.82,\n",
    "                 33.2,25,33.1,36.65,18.63,14.87,22.2,36.81,25.53,24.62,\n",
    "                 26.25,18.21,28.08,19.42,29.79,32.8,35.99,28.32,27.79,\n",
    "                 35.88,29.06,36.28,14.1,36.63,37.49,26.9,18.58,38.48,\n",
    "                 24.48,18.95,33.55,14.24,29.04,32.51,25.63,22.22,19,\n",
    "                 32.73,15.16,13.9,27.2,32.01,29.27,33,13.74,20.42,27.32,\n",
    "                 18.23,35.35,28.48,9.08,24.62,20.12,35.26,19.92,31.02,\n",
    "                 16.49,12.16,30.7,31.22,34.65,13.13,27.51,33.2,31.57,\n",
    "                 14.1,33.42,17.44,10.12,24.42,9.82,23.39,30.93,15.03,\n",
    "                 21.67,31.09,33.29,22.61,26.89,23.48,8.38,27.81,32.35,23.84]\n"
   ]
  },
  {
   "cell_type": "markdown",
   "metadata": {},
   "source": [
    "* A correlação trata da relação entre duas variáveis.\n",
    "* Covariância\n",
    "  * Verifica como duas variáveis variam em conjunto de suas médias.\n",
    "  * Se os elementos correspondentes de x e y estão acima ou abaixo da média, o valor que entra na soma é positiva.\n",
    "  * Quando um está acima e o outro abaixo, um número negativo entra na soma.\n",
    "  * Uma covariância positiva \"grande\" significa que x tende a ser grande quando y é grande e pequeno quando y é pequeno.\n",
    "  * Uma covariância negativa \"grande\" diz que x tende a se pequeno quando y é grande e grande quando y é pequeno.\n",
    "  * Uma covariância próxima a 0 diz que a relação entre as duas variáveis não existe.\n",
    "  * Dependendo dos conjunto de dados, pode ser de difícil interpretação. "
   ]
  },
  {
   "cell_type": "code",
   "execution_count": 19,
   "metadata": {},
   "outputs": [
    {
     "data": {
      "text/plain": [
       "22.425435139573064"
      ]
     },
     "execution_count": 19,
     "metadata": {},
     "output_type": "execute_result"
    }
   ],
   "source": [
    "# Cálculo da covariância\n",
    "def covariance(x, y):\n",
    "    n = len(x)\n",
    "    return dot(de_mean(x), de_mean(y))/(n-1)\n",
    "\n",
    "covariance(num_friends, daily_minutes)"
   ]
  },
  {
   "cell_type": "markdown",
   "metadata": {},
   "source": [
    "* Correlação\n",
    "  * Divide os desvios padrão de duas variáveis.\n",
    "  * A correlação não possui unidade e sempre está entre:\n",
    "    * -1 (anticorrelação perfeita) \n",
    "    * 1 (correlação perfeita)"
   ]
  },
  {
   "cell_type": "code",
   "execution_count": 20,
   "metadata": {},
   "outputs": [
    {
     "data": {
      "text/plain": [
       "0.24736957366478218"
      ]
     },
     "execution_count": 20,
     "metadata": {},
     "output_type": "execute_result"
    }
   ],
   "source": [
    "# Cálculo da correlação\n",
    "def correlation(x,y):\n",
    "    stdev_x = standard_deviation(x)\n",
    "    stdev_y = standard_deviation(y)\n",
    "    if stdev_x > 0 and stdev_y > 0:\n",
    "        return covariance(x, y)/stdev_x/stdev_y\n",
    "    else:\n",
    "        return 0\n",
    "\n",
    "correlation(num_friends, daily_minutes) # Correlação positiva relativamente fraca"
   ]
  },
  {
   "cell_type": "markdown",
   "metadata": {},
   "source": [
    "* É possível notar nos gráficos abaixo a influência de outliers na correlação entre as variáveis.\n",
    "* Gráfico com outlier (Usuário com 100 amigos que passa apenas 1 minuto online):"
   ]
  },
  {
   "cell_type": "code",
   "execution_count": 21,
   "metadata": {},
   "outputs": [
    {
     "data": {
      "image/png": "[encoded data removed]",
      "text/plain": [
       "<Figure size 432x288 with 1 Axes>"
      ]
     },
     "metadata": {
      "needs_background": "light"
     },
     "output_type": "display_data"
    }
   ],
   "source": [
    "import matplotlib.pyplot as plt\n",
    "\n",
    "# Gráfico com outliers\n",
    "plt.scatter(num_friends, daily_minutes)\n",
    "plt.axis([0,105,-1,100])\n",
    "plt.title(\"Correlação com um valor discrepante\")\n",
    "plt.xlabel(\"# de amigos\")\n",
    "plt.ylabel(\"minutos por dia\")\n",
    "\n",
    "plt.show()"
   ]
  },
  {
   "cell_type": "code",
   "execution_count": 22,
   "metadata": {},
   "outputs": [
    {
     "data": {
      "text/plain": [
       "0.5736792115665573"
      ]
     },
     "execution_count": 22,
     "metadata": {},
     "output_type": "execute_result"
    }
   ],
   "source": [
    "# Removendo o outlier\n",
    "outlier = num_friends.index(100) # índice do valor discrepante\n",
    "num_friends_good = [x \n",
    "                    for i, x in enumerate(num_friends) \n",
    "                    if i != outlier]\n",
    "\n",
    "daily_minutes_good = [x \n",
    "                    for i, x in enumerate(daily_minutes) \n",
    "                    if i != outlier]\n",
    "\n",
    "correlation(num_friends_good, daily_minutes_good)"
   ]
  },
  {
   "cell_type": "code",
   "execution_count": null,
   "metadata": {},
   "outputs": [],
   "source": []
  },
  {
   "cell_type": "code",
   "execution_count": 23,
   "metadata": {},
   "outputs": [
    {
     "data": {
      "image/png": "[encoded data removed]",
      "text/plain": [
       "<Figure size 432x288 with 1 Axes>"
      ]
     },
     "metadata": {
      "needs_background": "light"
     },
     "output_type": "display_data"
    }
   ],
   "source": [
    "# Gráfico com outliers\n",
    "plt.scatter(num_friends_good, daily_minutes_good)\n",
    "plt.axis([0,105,0,50])\n",
    "plt.title(\"Correlação com um valor discrepante\")\n",
    "plt.xlabel(\"# de amigos\")\n",
    "plt.ylabel(\"minutos por dia\")\n",
    "\n",
    "plt.show()"
   ]
  },
  {
   "cell_type": "markdown",
   "metadata": {},
   "source": [
    "### Paradoxo de Simpson\n",
    "\n",
    "* Correlações podem ser enganosas quando as variáveis de confusão são ignoradas.\n",
    "* A forma como os dados estão agrupados podem distorcer a correlação entre as variáveis. \n",
    "* Para resolver esse problema é necessário conhecer bem os seus dados para que nenhum fator de confusão passe despercebido (Embora nem sempre seja possível)\n",
    "\n",
    "### Alguns Outros Pontos de Atenção sobre Correlação\n",
    "\n",
    "* Uma correlação de zero indica que não há uma relação linear entre as variáveis. \n",
    "* Entretanto, podem existir outros tipos de relação entre as variáveis, não necessariamente um linear.\n"
   ]
  }
 ],
 "metadata": {
  "kernelspec": {
   "display_name": "Python 3",
   "language": "python",
   "name": "python3"
  },
  "language_info": {
   "codemirror_mode": {
    "name": "ipython",
    "version": 3
   },
   "file_extension": ".py",
   "mimetype": "text/x-python",
   "name": "python",
   "nbconvert_exporter": "python",
   "pygments_lexer": "ipython3",
   "version": "3.7.4"
  }
 },
 "nbformat": 4,
 "nbformat_minor": 2
}
