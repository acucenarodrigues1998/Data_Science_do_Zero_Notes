{
 "cells": [
  {
   "cell_type": "markdown",
   "metadata": {},
   "source": [
    "# 11. Aprendizado de Máquina\n",
    "\n",
    "* Data Science não se resume a aprendizado de máquina.\n",
    "* Data Science é mais transformar problemas empresariais em problemas de dados e coletar, entender, limpar e formatar os dados.\n",
    "* O aprendizado de máquina é uma considerção subsequente, além de uma referência interessante e essencial para a prática de Data Science.\n",
    "\n",
    "### Modelagem\n",
    "\n",
    "* O que é um modelo??\n",
    "  * É a especificação de uma relação matemática (ou probabilística) existente entre variáveis diferentes.\n",
    "  \n",
    "### O que é aprendizado de máquina?\n",
    "\n",
    "* Criação e uso de modelos que são aprendidos a partir de dados.\n",
    "* Modelo preditivo ou mineração de dados.\n",
    "* O objetivo será usar dados existentes para criar modelos que possam prever possíveis saídas para novos dados, como:\n",
    "  * Prever se uma mensagem de e-mail é spam ou não.\n",
    "  * Prever se uma transação do cartão de crédito é fraudulenta.\n",
    "  * Prever a probabilidade de uma comprador clicar em uma propaganda.\n",
    "  * Prever qual time de futebol ganhará o Super Bowl\n",
    "  \n",
    "  \n",
    "* Existem modelos:\n",
    "  * Supervisionados: dados etiquetados com a resposta correta para a aprendizagem\n",
    "  * Não supervisionado: dados não etiquetados.\n",
    "  * Semisupervisionados: apenas alguns dados são etiquetados.\n",
    "  * Online: o modelo necessita ter um ajuste contínuo com a chegada de novos dados.\n",
    "  \n",
    "  \n",
    "* Existem um universo de modelos que podem descrever uma relação (até em uma situação mais simples)\n",
    "* Na maioria dos casos serão escolhidos uma família parametrizada de modelos e os dados serão usados para aprender parâmetros ótimos.\n",
    "\n",
    "### Sobreajuste e Sub-Ajuste\n",
    "\n",
    "* Um perigo comum em aprendizado de máquina é o sobreajuste.\n",
    "  * Produzir um modelo de bom desempenho com os dados que você treina, mas não lida muito bem com novos dados.\n",
    "  * Pode implicar em aprender com base em ruídos ou;\n",
    "  * Em aprender entradas específicas ao invés de generalizar.\n",
    "  \n",
    "\n",
    "* Um outro risco é o subajuste:\n",
    "  * Não desempenha bem nem com os dados usados no treino.\n",
    "  \n",
    "\n",
    "* Modelos mais complexos tendem ao sobreajuste.\n",
    "* Como ter certeza se os modelos não são muito complexos? \n",
    "  * Um método muito utilizado é o uso de dados diferentes para treinar e testar o modelo.\n",
    "    * A maneira mais fácil é dividir o conjunto de dados a fim de que parte deles sejam usados para treinar o modelo e a parte restante sirva para medir o desempenho."
   ]
  },
  {
   "cell_type": "code",
   "execution_count": 1,
   "metadata": {},
   "outputs": [],
   "source": [
    "def split_data(x, prob):\n",
    "    results = [],[]\n",
    "    for row in data:\n",
    "        results[0 if random.random() < prob else 1].append(row)\n",
    "    return results\n",
    "\n",
    "# Para conjuntos de dados com x para variáveis de entrada e y para saída\n",
    "def train_test_split(x, y, test_pct):\n",
    "    data = list(zip(x, y)) # par de valores correspondentes\n",
    "    train, test = split_data(data, 1 - test_pct) # divide o conjunto de pares de dados\n",
    "    x_train, y_train = zip(*train) # truque mágico de un-zip (descompactação)\n",
    "    x_test, y_test = zip(*test)\n",
    "    return x_train, x_test, y_train, y_test"
   ]
  },
  {
   "cell_type": "markdown",
   "metadata": {},
   "source": [
    "* Isso nos permite fazer algo como:\n",
    "    \n",
    "~~~ Python\n",
    "model = SomeKindOfModel()\n",
    "x_train, x_test, y_train, y_test = train_test_split(xs, ys, 0.33)\n",
    "model.train(x_train, y_train)\n",
    "performance = model.test(x_test, y_test)\n",
    "~~~\n",
    "\n",
    "* Se o modelo foi sobreajustado para os dados de treinamento, ele deve desempenhar mal sobre os dados de teste.\n",
    "  * Caso desempenhe bem sobre os dados de teste, ele está ajustado.\n",
    "  \n",
    "* Existem duas formas de dar tudo errado\n",
    "  * Se existirem padrões comuns aos dados de teste e de treinamento que não seriam generalizados em um conjunto maior de dados.\n",
    "  * Usar a divisão de testes/treinamento não apenas para avaliar um modelo mas, também, para escolher entre os vários modelos.\n",
    "    * O ideal é dividir o conjunto em treino, teste e validação. Treino para construir o modelo, validação para escolher o melhor modelo e teste para avaliar o modelo final.\n",
    "    \n",
    "\n",
    "### Precisão\n",
    "\n",
    "* Precisão não é uma boa métrica para medir a eficiência de um modelo. \n",
    "* Dado um conjunto de dados etiquetados e um modelo preditivo, cada ponto de dados se estabelece em quatro categorias. \n",
    "  * Positivo verdadeiro: o dado é positivo e foi previsto como positivo.\n",
    "  * Positivo falso: o dado é negativo e foi previsto como positivo. \n",
    "  * Negativo falso: o dado é positivo e foi previsto como negativo.\n",
    "  * Negativo verdadeiro: o dado é negativo e foi previsto como negativo.\n",
    "\n",
    "\n",
    "* Essa contagem é representada em uma matriz de confusão.\n",
    "* Podemos usar esses dados para computar diversas estatísticas sobre o desempenho do modelo.\n",
    "* A acurácia é definida como a fração de premissas corretas:"
   ]
  },
  {
   "cell_type": "code",
   "execution_count": 2,
   "metadata": {},
   "outputs": [
    {
     "name": "stdout",
     "output_type": "stream",
     "text": [
      "0.98114\n"
     ]
    }
   ],
   "source": [
    "def accuracy(tp, fp, fn, tn):\n",
    "    correct = tp+tn\n",
    "    total = tp+fp+fn+tn\n",
    "    return correct/total\n",
    "\n",
    "print(accuracy(70,4930,13930,981070))"
   ]
  },
  {
   "cell_type": "markdown",
   "metadata": {},
   "source": [
    "* Costuma-se considerar a precisão e a sensibilidade:\n",
    "  * Precisão: quão precisas as previsões positivas foram.\n",
    "  * Sensibilidade: qual fração dos positivos o modelo identifica.\n",
    "\n",
    "\n",
    "* Para os dados aqui analisados são valores terríveis, refletindo em um modelo terrível.\n",
    "* Precisão e Sensibilidade podem ser combinados ao F1 Score que é definido como a média harmônica entre acurácia e sensibilidade."
   ]
  },
  {
   "cell_type": "code",
   "execution_count": 3,
   "metadata": {},
   "outputs": [
    {
     "name": "stdout",
     "output_type": "stream",
     "text": [
      "0.014\n",
      "0.005\n"
     ]
    }
   ],
   "source": [
    "# Precisão\n",
    "def precision(tp, fp, fn, tn):\n",
    "    return tp / (tp + fp)\n",
    "\n",
    "print (precision(70, 4930, 13930, 981070))\n",
    "\n",
    "# Sensibilidade\n",
    "def recall(tp, fp, fn, tn):\n",
    "    return tp / (tp + fn)\n",
    "\n",
    "print (recall(70, 4930, 13930, 981070))\n",
    "\n",
    "# F1 Score\n",
    "def f1_score(tp, fp, fn, tn):\n",
    "    p = precision(tp, fp, fn, tn)\n",
    "    r = recall(tp, fp, fn, tn)\n",
    "    return 2 * p * r / (p + r)"
   ]
  },
  {
   "cell_type": "markdown",
   "metadata": {},
   "source": [
    "* A escolha de um modelo implica em um compromisso entre acurácia e sensibilidade.\n",
    "  * Um modelo ao prever \"sim\" quando está pouco confiante, provavelmente terá alta sensibilidade e acurácia baixa.\n",
    "  * Um modelo ao prever \"sim\" quando está extremamente confiante, provavelmente terá baixa sensibilidade e acurácia alta.\n",
    "  \n",
    "\n",
    "### Compromisso entre polarização e variância\n",
    "\n",
    "* Outra maneira de pensar sobre o problema do sobreajuste.\n",
    "* Ambas são medidas do que aconteceria se o modelo fosse treinado muitas vezes em diferentes conjuntos de dados de treinamento (mesma população).\n",
    "* Um modelo que comete muitos erros para qualquer conjunto de dados em treinamento (mesma população) possui uma polarização alta.\n",
    "* Dois conjuntos de treinamento escolhidos aleatoriamente que fornecem modelos similares, possuem baixa variância.\n",
    "* Alta polarização e baixa variância geralmente pertencem ao sub-ajuste.\n",
    "* Baixa polarização e alta variância correspondem ao sobreajuste. \n",
    "* Pensar sobre problemas de modelos dessa maneira permite descobrir mais facilmente o que fazer quando o modelo não funciona bem.\n",
    "  * Se o modelo possui polarização alta, pode-se tentar adicionar mais características.\n",
    "  * Se o modelo possui variância alta, pode-se remover características.\n",
    "    * Outra solução seria obter mais dados.\n",
    "    \n",
    "    \n",
    "* Quanto mais dados há, mais difícil é para sobreajustar. \n",
    "* Entretanto, mais dados não ajudam na polarização.\n",
    "   * Se o modelo não usa recursos suficientes para capturar as regularidades nos dados, colocar mais dados não ajuda.\n",
    "   \n",
    "### Recursos, Extração e Seleção de Características\n",
    "\n",
    "* Característica são quaisquer entradas que fornecemos ao nosso modelo.\n",
    "* Em casos simples, as características são fornecidas apenas a você.\n",
    "* Se o problema for prever o salário de alguém baseado em seus anos de experiência, então anos de experiência é a única característica que você possui.\n",
    "* As coisas ficam mais interessantes se os dados ficam mais complicados.\n",
    "* Quase sempre são extraídos dados que podem ser incluídos em 3 categorias principais:\n",
    "  * Binário: 0 ou 1\n",
    "  * Regressão: um valor\n",
    "  * Multiclasse: muitas opções de saída.\n",
    "  \n",
    "  \n",
    "* O tipo de característica determina o tipo de modelo que pode ser usado. \n",
    "* Como escolher as características envolve uma combinação de experiência e domínio de entendimento.\n",
    "  * No geral, será necessário tentar diversos métodos. "
   ]
  }
 ],
 "metadata": {
  "kernelspec": {
   "display_name": "Python 3",
   "language": "python",
   "name": "python3"
  },
  "language_info": {
   "codemirror_mode": {
    "name": "ipython",
    "version": 3
   },
   "file_extension": ".py",
   "mimetype": "text/x-python",
   "name": "python",
   "nbconvert_exporter": "python",
   "pygments_lexer": "ipython3",
   "version": "3.7.4"
  }
 },
 "nbformat": 4,
 "nbformat_minor": 2
}
