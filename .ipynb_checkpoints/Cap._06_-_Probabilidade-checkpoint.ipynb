{
 "cells": [
  {
   "cell_type": "markdown",
   "metadata": {},
   "source": [
    "# 6. Probabilidade\n",
    "\n",
    "* A probabilidade deve ser pensada, para fins deste estudo, como uma forma de quantificar a incerteza associada com eventos escolhidos a partir de um universo.\n",
    "* Desta forma, escrevemos P(E) para significar \"a probabilidade de um evento E\".\n",
    "* A teoria da probabilidade é utilizada para construir modelos e para avaliar modelos. \n",
    "\n",
    "### Dependência e Independência\n",
    "\n",
    "* Dois eventos E e F são dependentes se E ocorrer nos dá informações sobre se F ocorre (e vice-versa). Do contrário, são independentes.\n",
    "* Matematicamente, dois eventos E e F são independentes se a probabilidade deles acontecerem é o produto da probabilidade de que cada um deles aconteça:\n",
    "\n",
    "  $P(E,F) = P(E)*P(F)$\n",
    "  \n",
    "### Probabilidade Condicional\n",
    "\n",
    "* Quando dois eventos são independentes, temos:\n",
    "  \n",
    "  $P(E,F) = P(E)*P(F)$\n",
    "\n",
    "* Se não forem necessariamente independentes e a probabilidade de F não for 0, define-se uma probabilidade de E \"condicionada a F\", assim:\n",
    "  \n",
    "  $P(E|F) = P(E,F) / P(F)$ (*Define-se como a probabilidade de E acontecer se sabemos que F acontece*)\n",
    "  \n",
    "* Pode ser reescrita da seguinte forma:\n",
    "  \n",
    "  $P(E,F) = P(E|F)P(F)$\n",
    "  \n",
    "* Quando E e F são independentes, isso resulta em:\n",
    "  \n",
    "  $P(E|F) = P(E)$ (*Indica que saber que F ocorreu não dá nenhuma informação adicional sobre se E ocorreu*)\n",
    "  \n",
    "Um exemplo comum e traiçoeiro envolve uma família com dois filhos (desconhecidos).\n",
    "\n",
    "Se presumirmos que:\n",
    "\n",
    "1. É igualmente possível que cada criança seja menino ou menina\n",
    "2. O gênero da segunda criança é independente do gênero da primeira, então o evento “nenhuma menina” tem a probabilidade de 1/4, o evento “uma menina, um menino” tem a probabilidade de 1/2 e o evento “duas meninas” tem a probabilidade de 1/4.\n",
    "\n",
    "Agora, podemos perguntar: qual a probabilidade de o evento “as duas crianças são meninas” (B) ser condicionado pelo evento “a criança mais velha é uma menina” (G)? Usando a definição de probabilidade condicional:\n",
    "\n",
    "  $P(B|G) = P(B,G)/P(G) = P(B)/P(G) = 1/2$\n",
    "\n",
    "uma vez que o evento B e G (“ambas as crianças são meninas e a criança mais velha é uma menina”) é apenas o evento B. (Já sabendo que as duas crianças são meninas, é obrigatoriamente verdade que a criança mais velha seja menina.)\n",
    "\n",
    "Esse resultado talvez corresponda a sua intuição.\n",
    "\n",
    "Também poderíamos perguntar sobre a probabilidade do evento “as duas crianças são meninas” ser condicional ao evento “ao menos uma das crianças é menina” (L). Surpreendentemente, a resposta é diferente de antes!\n",
    "\n",
    "Anteriormente, os eventos B e L (“as duas crianças são meninas e ao menos uma delas é uma menina”) é apenas o evento B. Isso significa que temos:\n",
    "\n",
    " $P(B|L) = P(B,L)/P(L) = P(B)/P(L) = 1/3$\n",
    "\n",
    "Como pode ser esse o caso? Bem, se tudo que você sabe é que ao menos uma das crianças é menina, então é duas vezes mais provável que a família tenha um menino e uma menina do que duas meninas. Podemos verificar isso ao “gerar” várias famílias:"
   ]
  },
  {
   "cell_type": "code",
   "execution_count": 9,
   "metadata": {},
   "outputs": [],
   "source": [
    "%matplotlib inline"
   ]
  },
  {
   "cell_type": "code",
   "execution_count": 3,
   "metadata": {},
   "outputs": [
    {
     "name": "stdout",
     "output_type": "stream",
     "text": [
      "P(both | older): 0.5007089325501317\n",
      "P(both | either):  0.3311897106109325\n"
     ]
    }
   ],
   "source": [
    "from random import choice, seed\n",
    "\n",
    "def random_kid():\n",
    "    return choice([\"boy\",\"girl\"])\n",
    "\n",
    "both_girls = 0 # Quantidade de vezes em que as duas são meninas \n",
    "older_girl = 0 # Quantidade de vezes em que a mais velha é menina\n",
    "either_girl = 0 # Quantidade de vezes em que alguma das crianças é menina\n",
    "\n",
    "seed(0)\n",
    "\n",
    "for _ in range(10000):\n",
    "    younger = random_kid()\n",
    "    older = random_kid()\n",
    "    if older == \"girl\":\n",
    "        older_girl+=1\n",
    "    if older == \"girl\" and younger == \"girl\":\n",
    "        both_girls+=1\n",
    "    if older == \"girl\" or younger == \"girl\":\n",
    "        either_girl+=1\n",
    "        \n",
    "print(\"P(both | older):\", both_girls / older_girl)\n",
    "print (\"P(both | either): \", both_girls / either_girl)"
   ]
  },
  {
   "cell_type": "markdown",
   "metadata": {},
   "source": [
    "### Teorema de Bayes\n",
    "\n",
    "* Uma maneira de \"reverter\" as probabilidades condicionais.\n",
    "* Digamos que seja necessário saber a probabilidade de um evento E ser condicionado a F mas só temos a informação de F sendo condicionado a E.\n",
    "* Usando a definição de probabilidade condicional duas vezes, podemos dizer:\n",
    "\n",
    "  $P(E|F) = P(E,F)/P(F) = P(F|E)*P(E)/P(F)$\n",
    "  \n",
    "* O evento F pode ser dividido em dois eventos mutuamente exclusivos \"F e E\" e \"F e não E\", logo:\n",
    "\n",
    "  $P(F) = P(F,E) + P(F, not(E))$\n",
    "  \n",
    "* Então temos:\n",
    "\n",
    "  $P(E|F) = P(F|E)*P(E)/[P(F|E)*P(E) + P(F|not(E))*P(not(E))]$\n",
    "\n",
    "* que é como o Teorema de Bayes é estabelecido. \n",
    "\n",
    "### Variáveis Aleatórias\n",
    "\n",
    "* Variável cujos valores possíveis possuem uma distribuição de probabilidade associada.\n",
    "* A probabilidade associada dá as probabilidades que a variável possui em cada um de seus valores possíveis.\n",
    "* Valor esperado da variável aleatória: \n",
    "  * Média de seus valores ponderados por suas probabilidades.\n",
    "* As variáveis aleatórias podem ser condicionadas a eventos assim como outros eventos.\n",
    "\n",
    "### Distribuições Contínuas\n",
    "\n",
    "* Frequentemente vamos querer modelar as distribuições por meio de um contínuo de resultados.\n",
    "* Representamos uma distribuição contínua com uma função de densidade de probabilidade tal que a probabilidade de ver um valor em um determinado intervalo é igual à integral da função de densidade sobre o intervalo.\n",
    "* A função de densidade para a distribuição uniforme é:"
   ]
  },
  {
   "cell_type": "code",
   "execution_count": 4,
   "metadata": {},
   "outputs": [],
   "source": [
    "def uniform_pdf(x):\n",
    "    return 1 if x >= 0 and x < 1 else 0"
   ]
  },
  {
   "cell_type": "markdown",
   "metadata": {},
   "source": [
    "* Função de distribuição cumulativa\n",
    "  * Fornece a probabilidade de uma variável aleatória ser menor ou igual a um determinado valor."
   ]
  },
  {
   "cell_type": "code",
   "execution_count": 5,
   "metadata": {},
   "outputs": [],
   "source": [
    "def uniform_cdf(x):\n",
    "    if x < 0: return 0\n",
    "    elif x < 1: return x\n",
    "    else: return 1"
   ]
  },
  {
   "cell_type": "markdown",
   "metadata": {},
   "source": [
    "### A Distribuição Normal\n",
    "\n",
    "* Mais utilizada.\n",
    "* Distribuição de curva em forma de sino.\n",
    "* Determinada por 2 parâmetros:\n",
    "  * Sua média $\\mu$(mi): indica onde o sino é centralizado.\n",
    "  * Desvio padrão $\\sigma$(sigma): indica a largura do sino.\n",
    "* Possui a seguinte função de distribuição:\n",
    "\n",
    "  $f(x|\\sigma , \\mu ) = \\frac{1}{\\sqrt {2\\pi} \\sigma} exp(-\\frac{(x-\\mu)^2}{2\\sigma^2})$\n",
    "  \n",
    "* Que pode ser implementada como:"
   ]
  },
  {
   "cell_type": "code",
   "execution_count": 15,
   "metadata": {},
   "outputs": [],
   "source": [
    "import math\n",
    "def normal_pdf(x, mu=0, sigma=1):\n",
    "    sqrt_two_pi = math.sqrt(2*math.pi)\n",
    "    return (math.exp(-(x-mu)**2/2/sigma**2)/(sqrt_two_pi*sigma))\n",
    "\n",
    "def normal_cdf(x, mu=0,sigma=1):\n",
    "    return (1 + math.erf((x - mu) / math.sqrt(2) / sigma)) / 2"
   ]
  },
  {
   "cell_type": "markdown",
   "metadata": {},
   "source": [
    "* Na figura plotada abaixo, são mostradas algumas curvas de distribuições normais:"
   ]
  },
  {
   "cell_type": "code",
   "execution_count": 10,
   "metadata": {},
   "outputs": [
    {
     "data": {
      "image/png": "[encoded data removed]",
      "text/plain": [
       "<Figure size 432x288 with 1 Axes>"
      ]
     },
     "metadata": {
      "needs_background": "light"
     },
     "output_type": "display_data"
    }
   ],
   "source": [
    "import matplotlib.pyplot as plt\n",
    "xs = [x / 10.0 for x in range(-50, 50)]\n",
    "plt.plot(xs,[normal_pdf(x,sigma=1) for x in xs],'-',label='mu=0,sigma=1')\n",
    "plt.plot(xs,[normal_pdf(x,sigma=2) for x in xs],'--',label='mu=0,sigma=2')\n",
    "plt.plot(xs,[normal_pdf(x,sigma=0.5) for x in xs],':',label='mu=0,sigma=0.5')\n",
    "plt.plot(xs,[normal_pdf(x,mu=-1) for x in xs],'-.',label='mu=-1,sigma=1')\n",
    "plt.legend()\n",
    "plt.title(\"Diversas Funções de Densidade de Probabilidade Normais\")\n",
    "plt.show()"
   ]
  },
  {
   "cell_type": "markdown",
   "metadata": {},
   "source": [
    "### Teorema do Limite Central\n",
    "\n",
    "* Diz que (em essência) uma variável aleatória definida como a média de uma grande quantidade de variáveis aleatórias distribuídas independente e identicamente é ela mesma aproximadamente distribuída normalmente.\n",
    "* se x1,...,xn são variáveis aleatórias com média μ e desvio padrão σ, e se n for grande, então:\n",
    "\n",
    "  $\\frac{1}{n}(x1+...+xn)$\n",
    "  \n",
    "* está aproximadamente distribuída normalmente com média = 0 e desvio padrão = 1.\n",
    "* Uma maneira simples de ilustrar isso é considerando as variáveis aleatórias binomiais, as quais possuem dois parâmetros n e p. Uma variável aleatória Binomial(n,p) é apenas a soma de n variáveis aleatórias independentes Bernoulli(p), e cada uma delas é igual a 1 com probabilidade p e 0 com probabilidade 1−p:"
   ]
  },
  {
   "cell_type": "code",
   "execution_count": 11,
   "metadata": {},
   "outputs": [],
   "source": [
    "from random import random\n",
    "def bernoulli_trial(p):\n",
    "    return 1 if random() < p else 0\n",
    "\n",
    "def binomial(n, p):\n",
    "    return sum(bernoulli_trial(p) for _ in range(n))"
   ]
  },
  {
   "cell_type": "markdown",
   "metadata": {},
   "source": [
    "* A média de uma variável Bernoulli(p) é p, e seu desvio padrão $\\sqrt{p(1-p)}$.\n",
    "* O teorema do limite central diz que, conforme n aumenta, a variável Binomial(n,p) é aproximadamente uma variável aleatória normal com a média μ = np e desvio padrão $\\sigma = \\sqrt{np(1-p)}$.\n",
    "* O gráfico abaixo mostra a semelhança:"
   ]
  },
  {
   "cell_type": "code",
   "execution_count": 16,
   "metadata": {},
   "outputs": [
    {
     "data": {
      "image/png": "[encoded data removed]",
      "text/plain": [
       "<Figure size 432x288 with 1 Axes>"
      ]
     },
     "metadata": {
      "needs_background": "light"
     },
     "output_type": "display_data"
    }
   ],
   "source": [
    "from collections import Counter\n",
    "def make_hist(p, n, num_points):\n",
    "    data = [binomial(n, p) for _ in range(num_points)]# usa um gráfico de barras para exibir as amostrar binomiais atuais\n",
    "    histogram = Counter(data)\n",
    "    plt.bar([x - 0.4 for x in histogram.keys()],\n",
    "    [v / num_points for v in histogram.values()],\n",
    "    0.8,\n",
    "    color='0.75')\n",
    "    mu = p * n\n",
    "    sigma = math.sqrt(n * p * (1 - p))\n",
    "    # usa um gráfico de linhas para exibir uma aproximação da normal\n",
    "    xs = range(min(data), max(data) + 1)\n",
    "    ys = [normal_cdf(i + 0.5, mu, sigma) - normal_cdf(i - 0.5, mu, sigma) for i in xs]\n",
    "    plt.plot(xs,ys)\n",
    "    plt.title(\"Distribuição Binomial vs. Aproximação Normal\" )\n",
    "    plt.show()\n",
    "    \n",
    "make_hist(0.75, 100, 10000)"
   ]
  }
 ],
 "metadata": {
  "kernelspec": {
   "display_name": "Python 3",
   "language": "python",
   "name": "python3"
  },
  "language_info": {
   "codemirror_mode": {
    "name": "ipython",
    "version": 3
   },
   "file_extension": ".py",
   "mimetype": "text/x-python",
   "name": "python",
   "nbconvert_exporter": "python",
   "pygments_lexer": "ipython3",
   "version": "3.7.4"
  }
 },
 "nbformat": 4,
 "nbformat_minor": 2
}
