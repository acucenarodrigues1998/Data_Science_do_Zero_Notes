{
 "cells": [
  {
   "cell_type": "markdown",
   "metadata": {},
   "source": [
    "# 14. Regressão Linear Simples\n",
    "\n",
    "* A correlação (Cap. 05) mede a força do relacionamento linear entre 2 variáveis.\n",
    "* Para as aplicações, saber que o relacionamento existe não é suficiente. Queremos entender a natureza do relacionamento.\n",
    "* Para isso usamos a regressão linear simples.\n",
    "\n",
    "### O Modelo\n",
    "\n",
    "* No capítulo 5, analisamos o relacionamento entre o número de amigos de um usuário e a quantidade de tempo que o mesmo passa no site por dia.\n",
    "* Quanto mais amigos um usuário possui, mais tempo ele passa no site.\n",
    "* Para descrever essa relação é necessário criar um modelo e, como foi encontrado um relacionamento linear forte, um bom lugar para iniciar é pelo modelo linear.\n",
    "* Temos uma hipótese de que existem duas constantes $\\alpha$ (alfa) e $\\beta$ (beta) de tal forma que:\n",
    "\n",
    "   $y_{i} = \\beta x_{i} + \\alpha + \\varepsilon _{i}$\n",
    "   \n",
    "* onde:\n",
    "  * $y_{i}$ é o número de minutos que o usuário i passa por dia no site diariamente.\n",
    "  * $x_{i}$ é o número de amigos que o usuário i possui\n",
    "  * $\\varepsilon _{i}$ é um termo de erro que representa o fato de existirem outros fatores não levados em conta.\n",
    "  \n",
    "  \n",
    "* Se soubermos os valores de $\\alpha$ e $\\beta$, as previsões podem ser feitas a partir de:"
   ]
  },
  {
   "cell_type": "code",
   "execution_count": 1,
   "metadata": {},
   "outputs": [],
   "source": [
    "# Função que recebe alpha, beta e x e retorna um valor predito para y\n",
    "def predict(alpha, beta, x_i):\n",
    "    return beta*x_i + alpha"
   ]
  },
  {
   "cell_type": "markdown",
   "metadata": {},
   "source": [
    "* Qualquer valor de alpha e beta retorna uma saída prevista para $x_{i}$. Como temos o valor real de $y_{i}$, é possível calcular um erro para cada par. "
   ]
  },
  {
   "cell_type": "code",
   "execution_count": 2,
   "metadata": {},
   "outputs": [],
   "source": [
    "def error(alpha, beta, x_i, y_i):\n",
    "    return y_i - predict(alpha, beta, x_i)"
   ]
  },
  {
   "cell_type": "markdown",
   "metadata": {},
   "source": [
    "* Necessitamos saber o erro total do conjunto de dados.\n",
    "* Entretanto, não podemos apenas somar os erros, pois, se $x_{1}$ tiver erro -2 e $x_{2}$ tiver erro 2, os dois erros se anulam. \n",
    "* Para resolver o problema, é realizada a soma dos erros ao quadrado, como implementado abaixo:"
   ]
  },
  {
   "cell_type": "code",
   "execution_count": 3,
   "metadata": {},
   "outputs": [],
   "source": [
    "def sum_of_squared_errors(alpha, beta, x, y):\n",
    "    return sum(error(alpha, beta, x_i, y_i) ** 2\n",
    "              for x_i, y_i in zip(x, y))"
   ]
  },
  {
   "cell_type": "code",
   "execution_count": 30,
   "metadata": {},
   "outputs": [],
   "source": [
    "num_friends_good = [49,41,40,25,21,21,19,19,18,18,16,15,15,15,15,14,14,13,13,13,13,12,12,11,10,10,10,10,10,10,10,10,10,10,10,10,10,10,10,9,9,9,9,9,9,9,9,9,9,9,9,9,9,9,9,9,9,8,8,8,8,8,8,8,8,8,8,8,8,8,7,7,7,7,7,7,7,7,7,7,7,7,7,7,7,6,6,6,6,6,6,6,6,6,6,6,6,6,6,6,6,6,6,6,6,6,6,5,5,5,5,5,5,5,5,5,5,5,5,5,5,5,5,5,4,4,4,4,4,4,4,4,4,4,4,4,4,4,4,4,4,4,4,4,3,3,3,3,3,3,3,3,3,3,3,3,3,3,3,3,3,3,3,3,2,2,2,2,2,2,2,2,2,2,2,2,2,2,2,2,2,1,1,1,1,1,1,1,1,1,1,1,1,1,1,1,1,1,1,1,1,1,1]\n",
    "daily_minutes_good = [68.77,51.25,52.08,38.36,44.54,57.13,51.4,41.42,31.22,34.76,54.01,38.79,47.59,49.1,27.66,41.03,36.73,48.65,28.12,46.62,35.57,32.98,35,26.07,23.77,39.73,40.57,31.65,31.21,36.32,20.45,21.93,26.02,27.34,23.49,46.94,30.5,33.8,24.23,21.4,27.94,32.24,40.57,25.07,19.42,22.39,18.42,46.96,23.72,26.41,26.97,36.76,40.32,35.02,29.47,30.2,31,38.11,38.18,36.31,21.03,30.86,36.07,28.66,29.08,37.28,15.28,24.17,22.31,30.17,25.53,19.85,35.37,44.6,17.23,13.47,26.33,35.02,32.09,24.81,19.33,28.77,24.26,31.98,25.73,24.86,16.28,34.51,15.23,39.72,40.8,26.06,35.76,34.76,16.13,44.04,18.03,19.65,32.62,35.59,39.43,14.18,35.24,40.13,41.82,35.45,36.07,43.67,24.61,20.9,21.9,18.79,27.61,27.21,26.61,29.77,20.59,27.53,13.82,33.2,25,33.1,36.65,18.63,14.87,22.2,36.81,25.53,24.62,26.25,18.21,28.08,19.42,29.79,32.8,35.99,28.32,27.79,35.88,29.06,36.28,14.1,36.63,37.49,26.9,18.58,38.48,24.48,18.95,33.55,14.24,29.04,32.51,25.63,22.22,19,32.73,15.16,13.9,27.2,32.01,29.27,33,13.74,20.42,27.32,18.23,35.35,28.48,9.08,24.62,20.12,35.26,19.92,31.02,16.49,12.16,30.7,31.22,34.65,13.13,27.51,33.2,31.57,14.1,33.42,17.44,10.12,24.42,9.82,23.39,30.93,15.03,21.67,31.09,33.29,22.61,26.89,23.48,8.38,27.81,32.35,23.84]\n"
   ]
  },
  {
   "cell_type": "code",
   "execution_count": 1,
   "metadata": {},
   "outputs": [],
   "source": [
    "# Funções Auxiliares\n",
    "from Codigos.linear_algebra import dot, sum_of_squares, vector_subtract, scalar_multiply \n",
    "from Codigos.stats import mean, de_mean, variance, standard_deviation, covariance, correlation\n",
    "from Codigos.gradient_descent import minimize_stochastic, in_random_order"
   ]
  },
  {
   "cell_type": "markdown",
   "metadata": {},
   "source": [
    "* A solução mínima dos quadrados é escolher valores alfa e beta que minimizem o resultado da soma dos erros ao quadrado.\n",
    "* A minimização é realizada através da função abaixo:"
   ]
  },
  {
   "cell_type": "code",
   "execution_count": 42,
   "metadata": {},
   "outputs": [],
   "source": [
    "def least_squares_fit(x, y):\n",
    "    beta = correlation(x, y) * standard_deviation(y)/standard_deviation(x)\n",
    "    alpha = mean(y) - beta * mean(y) \n",
    "    return alpha, beta"
   ]
  },
  {
   "cell_type": "markdown",
   "metadata": {},
   "source": [
    "* Necessitamos de uma forma para visualizar quão bem o modelo se ajusta aos dados.\n",
    "* uma medida comum é o coeficiente de determinação (ou $R^{2}$) que mede a fração da variação total capturada pelo modelo."
   ]
  },
  {
   "cell_type": "code",
   "execution_count": 67,
   "metadata": {},
   "outputs": [],
   "source": [
    "def total_sum_of_squares(y):\n",
    "    return sum(v**2 for v in de_mean(y))\n",
    "\n",
    "def r_squared(alpha, beta, x, y):\n",
    "    return 1.0 - (sum_of_squared_errors(alpha, beta, x, y) / total_sum_of_squares(y))"
   ]
  },
  {
   "cell_type": "markdown",
   "metadata": {},
   "source": [
    "### Usando o Gradiente Descendente\n",
    "\n",
    "* Podemos utilizar o gradiente descendente para obter os valores de alpha e beta."
   ]
  },
  {
   "cell_type": "code",
   "execution_count": 64,
   "metadata": {},
   "outputs": [
    {
     "name": "stdout",
     "output_type": "stream",
     "text": [
      "alpha 22.945146854915347\n",
      "beta 0.9036996464970657\n"
     ]
    }
   ],
   "source": [
    "import random\n",
    "def squared_error(x_i, y_i, theta):\n",
    "    alpha, beta = theta\n",
    "    return error(alpha, beta, x_i, y_i)**2\n",
    "\n",
    "def squared_error_gradient(x_i, y_i, theta):\n",
    "    alpha, beta = theta\n",
    "    return [-2 * error(alpha, beta, x_i, y_i),       # alpha partial derivative\n",
    "            -2 * error(alpha, beta, x_i, y_i) * x_i] # beta partial derivative\n",
    "\n",
    "theta = [random.random(), random.random()]\n",
    "alpha, beta = minimize_stochastic(squared_error,\n",
    "                                  squared_error_gradient,\n",
    "                                  num_friends_good,\n",
    "                                  daily_minutes_good,\n",
    "                                  theta,\n",
    "                                  0.0001)\n",
    "    \n",
    "print(\"alpha\", alpha)\n",
    "print(\"beta\", beta)"
   ]
  },
  {
   "cell_type": "markdown",
   "metadata": {},
   "source": [
    "* Conseguimos os valores 22,9 para alpha e 0,9 para beta. \n",
    "* Isso significa que um usuário com 0 amigos passa quase 23 minutos online e para cada amigo, passa quase 1 minuto a mais."
   ]
  },
  {
   "cell_type": "code",
   "execution_count": 65,
   "metadata": {},
   "outputs": [
    {
     "data": {
      "image/png": "[encoded data removed]",
      "text/plain": [
       "<Figure size 432x288 with 1 Axes>"
      ]
     },
     "metadata": {
      "needs_background": "light"
     },
     "output_type": "display_data"
    }
   ],
   "source": [
    "import matplotlib.pyplot as plt\n",
    "model = [predict(alpha, beta, x) for x in range(51)]\n",
    "plt.plot(model, color='green')\n",
    "plt.axis([0, 50, 0, 100])\n",
    "plt.scatter(num_friends_good, daily_minutes_good)\n",
    "plt.show()"
   ]
  },
  {
   "cell_type": "code",
   "execution_count": 68,
   "metadata": {},
   "outputs": [
    {
     "data": {
      "text/plain": [
       "0.329107696643939"
      ]
     },
     "execution_count": 68,
     "metadata": {},
     "output_type": "execute_result"
    }
   ],
   "source": [
    "r_squared(alpha, beta, num_friends_good, daily_minutes_good) # Indica que o modelo não é tão bom para os dados. "
   ]
  },
  {
   "cell_type": "code",
   "execution_count": null,
   "metadata": {},
   "outputs": [],
   "source": []
  },
  {
   "cell_type": "code",
   "execution_count": null,
   "metadata": {},
   "outputs": [],
   "source": []
  },
  {
   "cell_type": "code",
   "execution_count": null,
   "metadata": {},
   "outputs": [],
   "source": []
  },
  {
   "cell_type": "code",
   "execution_count": null,
   "metadata": {},
   "outputs": [],
   "source": []
  },
  {
   "cell_type": "code",
   "execution_count": null,
   "metadata": {},
   "outputs": [],
   "source": []
  },
  {
   "cell_type": "code",
   "execution_count": null,
   "metadata": {},
   "outputs": [],
   "source": []
  },
  {
   "cell_type": "code",
   "execution_count": null,
   "metadata": {},
   "outputs": [],
   "source": []
  },
  {
   "cell_type": "code",
   "execution_count": null,
   "metadata": {},
   "outputs": [],
   "source": []
  }
 ],
 "metadata": {
  "kernelspec": {
   "display_name": "Python 3",
   "language": "python",
   "name": "python3"
  },
  "language_info": {
   "codemirror_mode": {
    "name": "ipython",
    "version": 3
   },
   "file_extension": ".py",
   "mimetype": "text/x-python",
   "name": "python",
   "nbconvert_exporter": "python",
   "pygments_lexer": "ipython3",
   "version": "3.7.4"
  }
 },
 "nbformat": 4,
 "nbformat_minor": 2
}
