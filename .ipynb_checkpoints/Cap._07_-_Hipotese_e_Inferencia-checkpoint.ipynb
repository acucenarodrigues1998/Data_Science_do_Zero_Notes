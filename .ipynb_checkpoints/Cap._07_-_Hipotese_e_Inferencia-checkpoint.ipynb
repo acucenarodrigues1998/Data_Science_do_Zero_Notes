{
 "cells": [
  {
   "cell_type": "markdown",
   "metadata": {},
   "source": [
    "# 7. Hipótese e Inferência\n",
    "\n",
    "* A parte ciência de data science frequentemente envolve formar e testar hipóteses sobre nossos dados e os processos que o geram. \n",
    "\n",
    "### Teste Estatístico de Hipótese\n",
    "\n",
    "* Com frequência queremos testar se uma determinada hipótese é verdadeira.\n",
    "* Hipóteses são afirmações como \"esta é uma moeda honesta\" ou \"os cientistas de dados preferem Python a R\" que possam ser traduzidas em estatísticas sobre dados. \n",
    "* Essas estatísticas podem ser vistas como observações de variáveis aleatórias a partir de distribuições conhecidas. \n",
    "  * Permite que sejam feitas declarações sobre as premissas mais prováveis de serem corretas.\n",
    "\n",
    "\n",
    "* Em uma configuração clássica, temos:\n",
    "  * Hipótese nula $H_{0}$ que representa uma posição padrão e;\n",
    "  * Alguma hipótese $H_{1}$ com a qual gostaríamos de compará-la.\n",
    "  \n",
    "  \n",
    "* A partir disso, usamos estatística para decidir se $H_{0}$ é falsa ou não.\n",
    "\n",
    "#### Exemplo: Lançar uma Moeda\n",
    "\n",
    "* Imagine que temos uma moeda e queremos testar para confirmar se ela é honesta. \n",
    "  * $H_{0}$: \"A moeda é honesta.\" ou possibildade de cair cara $p = 0,5$\n",
    "  * $H_{1}$: $p \\neq 0,5$\n",
    "  \n",
    "  \n",
    "* Para o teste, uma moeda será lançada n vezes contando o número de caras X.\n",
    "* Cada lançamento da moeda é uma tentativa de Bernoulli (Cap.06), e pode ser aproximada usando a distribuição normal."
   ]
  },
  {
   "cell_type": "code",
   "execution_count": 1,
   "metadata": {},
   "outputs": [],
   "source": [
    "# Funções Auxiliares do cap.06 que serão úteis para esse capítulo\n",
    "from Codigos.probability import normal_pdf, normal_cdf, inverse_normal_cdf"
   ]
  },
  {
   "cell_type": "code",
   "execution_count": 2,
   "metadata": {},
   "outputs": [],
   "source": [
    "# Aproximação da variável aleatória binomial\n",
    "def normal_approximation_to_binomial(n, p):\n",
    "    mu = p*n\n",
    "    sigma = math.sqrt(p*(1-p)*n)\n",
    "    return mu, sigma"
   ]
  },
  {
   "cell_type": "markdown",
   "metadata": {},
   "source": [
    "* Como a variável aleatória segue uma distribuição normal, a função normal_cdf (cap.06) pode ser usada para descobrir a probabilidade dos valores resultantes serem internos ou externos a um determinado intervalo."
   ]
  },
  {
   "cell_type": "code",
   "execution_count": 3,
   "metadata": {},
   "outputs": [],
   "source": [
    "# o cdf normal é a probabilidade que a variável esteja abaixo de um limite\n",
    "normal_probability_below = normal_cdf\n",
    "\n",
    "# está acima do limite se não estiver abaixo\n",
    "def normal_probability_above(lo, mu=0, sigma=1):\n",
    "    return 1 - normal_cdf(lo, mu, sigma)\n",
    "\n",
    "# está entre se for menor que hi e maior que low \n",
    "def normal_probability_between(lo, hi, mu=0, sigma=1):\n",
    "    return normal_cdf(hi, mu, sigma)-normal_cdf(lo, mu, sigma)\n",
    "\n",
    "# está fora se não estiver entre\n",
    "def normal_probability_outside(lo, hi, mu=0, sigma=1):\n",
    "    return 1 - normal_probability_between(lo, hi, mu, sigma)"
   ]
  },
  {
   "cell_type": "markdown",
   "metadata": {},
   "source": [
    "* Podemos encontrar a região sem o intervalo específico em torno da média que contribui para o nível de probabilidade. "
   ]
  },
  {
   "cell_type": "code",
   "execution_count": 4,
   "metadata": {},
   "outputs": [],
   "source": [
    "def normal_upper_bound(probability, mu=0, sigma=1):\n",
    "    return inverse_normal_cdf(probability, mu, sigma)\n",
    "\n",
    "def normal_lower_bound(probability, mu=0, sigma=1):\n",
    "    return inverse_normal_cdf(1-probability, mu, sigma)\n",
    "\n",
    "def normal_two_sided_bound(probability, mu=0, sigma=1):\n",
    "    tail_probability = (1-probability)/2\n",
    "    upper_bound = normal_lower_bound(tail_probability, mu, sigma)\n",
    "    lower_bound = normal_upper_bound(tail_probability, mu, sigma)\n",
    "    return lower_bound, upper_bound"
   ]
  },
  {
   "cell_type": "markdown",
   "metadata": {},
   "source": [
    "* Decidimos lançar a moeda 1000 vezes (n = 1000). \n",
    "* Se for uma moeda honesta, X deve ser distribuido normalente com média 500 e desvio padrão de 15,8:"
   ]
  },
  {
   "cell_type": "code",
   "execution_count": 5,
   "metadata": {},
   "outputs": [
    {
     "name": "stdout",
     "output_type": "stream",
     "text": [
      "Média: 500.0\n",
      "Desvio Padrão: 15.8\n"
     ]
    }
   ],
   "source": [
    "mu_0, sigma_0 = normal_approximation_to_binomial(1000, 0.5)\n",
    "print(\"Média: {}\\nDesvio Padrão: {:.1f}\".format(mu_0, sigma_0))"
   ]
  },
  {
   "cell_type": "markdown",
   "metadata": {},
   "source": [
    "* Significância: limite máximo de falsos prositivos (rejeita H0 mesmo sendo verdadeiro), aqui para o exemplo 5%.\n",
    "* Com isso, consideramos que o teste rejeita $H_{0}$ se X cai fora dos limites abaixo:"
   ]
  },
  {
   "cell_type": "code",
   "execution_count": 6,
   "metadata": {},
   "outputs": [
    {
     "data": {
      "text/plain": [
       "(469.01026640487555, 530.9897335951244)"
      ]
     },
     "execution_count": 6,
     "metadata": {},
     "output_type": "execute_result"
    }
   ],
   "source": [
    "normal_two_sided_bound(0.95, mu_0, sigma_0)"
   ]
  },
  {
   "cell_type": "markdown",
   "metadata": {},
   "source": [
    "* Se H0 for verdadeiro, o teste apresentará o resultado correto em 19 de 20 vezes.\n",
    "* Poder de um teste: probabilidade de não rejeitar $H_{0}$ mesmo sendo falso.\n",
    "* Para medir esse procedimento, deve-se especificar o que realmente significa $H_{0}$ ser falso.\n",
    "* Veremos o que acontece se p = 0,55, quando a moeda está inclinada a cara.\n",
    "* Podemos calcular assim:"
   ]
  },
  {
   "cell_type": "code",
   "execution_count": 7,
   "metadata": {},
   "outputs": [
    {
     "name": "stdout",
     "output_type": "stream",
     "text": [
      "Power: 0.887\n"
     ]
    }
   ],
   "source": [
    "# 95% dos resultados baseados na premissa de que p = 0,5 \n",
    "lo, hi = normal_two_sided_bound(0.95, mu_0, sigma_0)\n",
    "\n",
    "# mi e sigma reais baseados em p = 0,55\n",
    "mu_1, sigma_1 = normal_approximation_to_binomial(1000, 0.55) \n",
    "\n",
    "type_2_probability = normal_probability_between(lo, hi, mu_1, sigma_1)\n",
    "power = 1 - type_2_probability\n",
    "print(\"Power: {:.3}\".format(power))"
   ]
  },
  {
   "cell_type": "markdown",
   "metadata": {},
   "source": [
    "* Queremos um teste que rejeitasse $H_{0}$ quando X fosse muito maior que 50, mas não quando x for menor.\n",
    "* Para tal devemos encontrar o corte abaixo de 95% em que a probabilidade ficaria: "
   ]
  },
  {
   "cell_type": "code",
   "execution_count": 8,
   "metadata": {},
   "outputs": [
    {
     "name": "stdout",
     "output_type": "stream",
     "text": [
      "Máximo: 526\n",
      "Power: 0.936\n"
     ]
    }
   ],
   "source": [
    "hi = normal_upper_bound(0.95, mu_0, sigma_0)\n",
    "print(\"Máximo: {:.0f}\".format(hi))\n",
    "\n",
    "type_2_probability = normal_probability_below(hi, mu_1, sigma_1)\n",
    "power = 1 - type_2_probability\n",
    "print(\"Power: {:.3}\".format(power))"
   ]
  },
  {
   "cell_type": "markdown",
   "metadata": {},
   "source": [
    "* Esse teste não rejeita $H_{0}$ quando X está abaixo de 469 (Improvável de acontecer se $H_{1}$ for verdadeiro) e rejeita $H_{0}$ quando X está entre 526 e 531 (provável de acontecer se $H_{1}$ for verdadeiro).\n",
    "\n",
    "### p-Values\n",
    "\n",
    "* Uma maneira alternativa de pensar no teste anterior é usando p-values. \n",
    "* Em vez de escolher limites, calcula-se a probabilidade (sendo $H_{0}$ verdadeiro) que podemos ver um valor ao menos tão extremo quanto ao que realmente observamos.\n",
    "\n",
    "* Para o teste da moeda honesta: "
   ]
  },
  {
   "cell_type": "code",
   "execution_count": 9,
   "metadata": {},
   "outputs": [
    {
     "data": {
      "text/plain": [
       "0.06207721579598835"
      ]
     },
     "execution_count": 9,
     "metadata": {},
     "output_type": "execute_result"
    }
   ],
   "source": [
    "def two_sided_p_value(x, mu=0,sigma=1):\n",
    "    if x >= mu:\n",
    "        return 2*normal_probability_above(x, mu, sigma)\n",
    "    else:\n",
    "        return 2*normal_probability_below(x, mu, sigma)\n",
    "    \n",
    "# Para 530 caras, computaríamos:\n",
    "two_sided_p_value(529.5,mu_0,sigma_0) # Correção de continuidade, motivo pelo qual utilizamos 529.5\n",
    "                                       # ao invés de 530, trata-se da melhor estimativa de ver ao\n",
    "                                        # ao menos 530 caras."
   ]
  },
  {
   "cell_type": "markdown",
   "metadata": {},
   "source": [
    "* Abaixo uma simulação para para comprovar a relevância dessa estimativa:"
   ]
  },
  {
   "cell_type": "code",
   "execution_count": 10,
   "metadata": {},
   "outputs": [
    {
     "name": "stdout",
     "output_type": "stream",
     "text": [
      "0.06181\n"
     ]
    }
   ],
   "source": [
    "import random\n",
    "extreme_value_count = 0\n",
    "for _ in range(100000):\n",
    "    num_heads = sum(1 if random.random() < 0.5 else 0 # contagem do # de caras\n",
    "                    for _ in range(1000)) # em 1000 lançamentos\n",
    "    if num_heads >= 530 or num_heads <= 470: # e contagem da frequência\n",
    "        extreme_value_count += 1 # que # é 'extrema'\n",
    "\n",
    "print (extreme_value_count / 100000)"
   ]
  },
  {
   "cell_type": "markdown",
   "metadata": {},
   "source": [
    "* Se p-value for maior que a significância de 5%, não rejeitamos a hipótese $H_{0}$."
   ]
  },
  {
   "cell_type": "code",
   "execution_count": 13,
   "metadata": {},
   "outputs": [
    {
     "name": "stdout",
     "output_type": "stream",
     "text": [
      "0.046345287837786575 0.06062885772582072 0.04686839508859242\n"
     ]
    }
   ],
   "source": [
    "# Se tivéssemos 532 caras\n",
    "t1 = two_sided_p_value(531.5, mu_0, sigma_0) # < 0.05, rejeitado\n",
    "\n",
    "upper_p_value = normal_probability_above\n",
    "lower_p_value = normal_probability_below\n",
    "\n",
    "# Se tivéssemos 525 caras\n",
    "t2 = upper_p_value(524.5, mu_0, sigma_0) # > 0.05, aceito\n",
    "\n",
    "# Se tivéssemos 527 caras\n",
    "t3 = upper_p_value(526.5, mu_0, sigma_0) # < 0.05, rejeitado\n",
    "\n",
    "print(t1, t2, t3)"
   ]
  },
  {
   "cell_type": "markdown",
   "metadata": {},
   "source": [
    "### Intervalos de Confiança\n",
    "\n",
    "* Uma terceira abordagem ao problema abordado é utilizar intervalos de confiança em torno do valor observado.\n",
    "* Quão confiantes podemos ser em uma estimativa?\n",
    "  * Se soubessemos exatamente o valor de p, seria fácil utilizar o teorema do limite central.\n",
    "  * Como p não é conhecido, será necessário utilizar a estimativa com o teorema do limite central para obter o intervalo. Não é totalmente confiável, mas é popularmente adotado. \n",
    "  * Para obter tal estimativa, dizemos estar \"95% confiantes\" de obter o valor de p."
   ]
  },
  {
   "cell_type": "code",
   "execution_count": 14,
   "metadata": {},
   "outputs": [
    {
     "data": {
      "text/plain": [
       "(0.4940490278129096, 0.5559509721870904)"
      ]
     },
     "execution_count": 14,
     "metadata": {},
     "output_type": "execute_result"
    }
   ],
   "source": [
    "# Observando 525 caras\n",
    "p_hat = 525/1000\n",
    "mu = p_hat\n",
    "sigma = math.sqrt(p_hat * (1 - p_hat) / 1000)\n",
    "\n",
    "normal_two_sided_bound(0.95, mu, sigma) # Não é viciada, cai dentro do intervalo de confiança."
   ]
  },
  {
   "cell_type": "code",
   "execution_count": 15,
   "metadata": {},
   "outputs": [
    {
     "data": {
      "text/plain": [
       "(0.5091095927295919, 0.5708904072704082)"
      ]
     },
     "execution_count": 15,
     "metadata": {},
     "output_type": "execute_result"
    }
   ],
   "source": [
    "# Observando 525 caras\n",
    "p_hat = 540/1000\n",
    "mu = p_hat\n",
    "sigma = math.sqrt(p_hat * (1 - p_hat) / 1000)\n",
    "\n",
    "normal_two_sided_bound(0.95, mu, sigma) # Viciada, fora do intervalo de confiança."
   ]
  },
  {
   "cell_type": "markdown",
   "metadata": {},
   "source": [
    "### P-Hacking\n",
    "\n",
    "* Um procedimento que rejeita a hipótese nula erroneamente somente 5% das vezes vai — por definição — rejeitar erroneamente 5% das vezes a hipótese nula: "
   ]
  },
  {
   "cell_type": "code",
   "execution_count": 16,
   "metadata": {},
   "outputs": [
    {
     "name": "stdout",
     "output_type": "stream",
     "text": [
      "Número de Rejeições: 46\n"
     ]
    }
   ],
   "source": [
    "def run_experiment():\n",
    "    return [random.random() < 0.5 for _ in range(1000)]\n",
    "\n",
    "def reject_fainess(experiment):\n",
    "    num_heads = len([flip for flip in experiment if flip])\n",
    "    return num_heads < 469 or num_heads > 531\n",
    "\n",
    "random.seed(0)\n",
    "experiments = [run_experiment() for _ in range(1000)]\n",
    "num_rejections = len([experiment\n",
    "                     for experiment in experiments\n",
    "                     if reject_fainess(experiment)])\n",
    "\n",
    "print(\"Número de Rejeições: {}\".format(num_rejections))"
   ]
  },
  {
   "cell_type": "markdown",
   "metadata": {},
   "source": [
    "* O que isso quer dizer é que você está tentando encontrar resultados \"significativos\" e geralmente você consegue.\n",
    "* Teste hipóteses suficientes contra o seu conjunto de dados e um deles, certamente, parecerá significante.\n",
    "* Remova os valores discrepantes certos, e será provável conseguir seu p-value abaixo de 0,05.\n",
    "* Uma consequência da “inferência a partir da estrutura dos p-values”.\n",
    "\n",
    "#### Executando um Teste A/B\n",
    "\n",
    "Uma de nossas responsabilidades iniciais na DataSciencester é testar a otimização, um eufemismo para tentar fazer com que as pessoas cliquem nos anúncios. Um de seus anunciantes desenvolveu uma bebida energética voltada para os cientistas de dados, e o vice-presidente de Publicidade quer a sua ajuda para escolher entre a propaganda A (“bom sabor!”) ou propaganda B (“menos polarização!”).\n",
    "\n",
    "Por ser um cientista, você decide executar um experimento mostrando aos visitantes do site uma das duas propagandas e registrando quantas pessoas clicam em cada um.\n",
    "\n",
    "* Se 990 de 1000 visualizadores clicam no anúncio A enquanto 10 de 1000 visualizadores clicam no anúncio B. Chegamos a conclusão de que A é melhor que B. \n",
    "* Mas, e se as diferenças não forem tão óbvias?? \n",
    "  * Inferência Estatística\n",
    "  \n",
    "* Digamos que $N_{A}$ pessoas vejam o anúncio A e $n_{A}$ cliquem nele.\n",
    "  * $p_{A}$ é a probabilidade de alguém clicar no anúncio A.\n",
    "  * Então, sabemos que $\\frac{n_{A}}{N_{A}}$ tem média $p_{A}$ e desvio padrão $\\sigma_{A} = \\sqrt{\\frac{p_{A}(1 - p_{A})}{N_{A}}}$\n",
    "  \n",
    "* O mesmo para B, então:\n",
    "  * $\\frac{n_{B}}{N_{B}}$ tem média $p_{B}$ e desvio padrão $\\sigma_{B} = \\sqrt{\\frac{p_{B}(1 - p_{B})}{N_{B}}}$"
   ]
  },
  {
   "cell_type": "code",
   "execution_count": 17,
   "metadata": {},
   "outputs": [],
   "source": [
    "def estimated_parameters(N, n):\n",
    "    p = n/N\n",
    "    sigma = math.sqrt(p*(1-p)/N)\n",
    "    return p, sigma"
   ]
  },
  {
   "cell_type": "markdown",
   "metadata": {},
   "source": [
    "* Sendo A e B são independentes, então suas diferenças também deveriam ser normais com a média $p_{B} - p_{A}$ e o desvio padrão $\\sqrt{\\sigma^2_{A} + \\sigma^2_{B}}$.\n",
    "* Podemos testar a hipótese nula de que $p_{A}$ e $p_{B}$ são a mesma ($p_{B} - p_{A}$ é zero) usando a estatística:"
   ]
  },
  {
   "cell_type": "code",
   "execution_count": 18,
   "metadata": {},
   "outputs": [],
   "source": [
    "def a_b_test_statistic(N_A, n_A, N_B, n_B):\n",
    "    p_A, sigma_A = estimated_parameters(N_A, n_A)\n",
    "    p_B, sigma_B = estimated_parameters(N_B, n_B)\n",
    "    return (p_B - p_A)/math.sqrt(sigma_A**2 + sigma_B**2)"
   ]
  },
  {
   "cell_type": "code",
   "execution_count": 23,
   "metadata": {},
   "outputs": [
    {
     "name": "stdout",
     "output_type": "stream",
     "text": [
      "Estatística: -1.14\n",
      "Probabilidade de ver tal diferença: 0.254\n"
     ]
    }
   ],
   "source": [
    "# \"Bom sabor\" recebe 200 cliques de 1000 views e \"menos polarização\" receba 180 de 1000 views\n",
    "z = a_b_test_statistic(1000, 200, 1000, 180) \n",
    "print(\"Estatística: {:.2f}\".format(z))\n",
    "print(\"Probabilidade de ver tal diferença: {:.3f}\".format(two_sided_p_value(z)))"
   ]
  },
  {
   "cell_type": "code",
   "execution_count": 24,
   "metadata": {},
   "outputs": [
    {
     "name": "stdout",
     "output_type": "stream",
     "text": [
      "Estatística: -2.95\n",
      "Probabilidade de ver tal diferença: 0.003\n"
     ]
    }
   ],
   "source": [
    "# \"menos polarização\" receba 150 cliques\n",
    "z = a_b_test_statistic(1000, 200, 1000, 150) \n",
    "print(\"Estatística: {:.2f}\".format(z))\n",
    "print(\"Probabilidade de ver tal diferença: {:.3f}\".format(two_sided_p_value(z)))"
   ]
  },
  {
   "cell_type": "markdown",
   "metadata": {},
   "source": [
    "### Inferência Bayesiana\n",
    "\n",
    "* Uma alternativa para a inferência envolve tratar os parâmetros desconhecidos como variáveis aleatórias. \n",
    "* Deve-se começar com uma distribuição anterior para os parâmetros e usar os dados e o Teorema de Bayes para receber uma atualização da distribuição posterior para os parâmetros."
   ]
  },
  {
   "cell_type": "code",
   "execution_count": 25,
   "metadata": {},
   "outputs": [],
   "source": [
    "# Quando o parâmetro desconhecido é uma probabilidade\n",
    "# Utilizamos uma anterior a partir da distribuição beta\n",
    "# Coloca todas a probabilidades entre 0 e 1\n",
    "def B(alpha, beta): \n",
    "    return math.gamma(alpha)*math.gamma(beta)/math.gamma(alpha+beta)\n",
    "\n",
    "def beta_pdf(x, alpha, beta):\n",
    "    if x < 0 or x > 1:\n",
    "        return 0\n",
    "    return x**(alpha-1)*(1-x)**(beta-1)/B(alpha,beta)"
   ]
  },
  {
   "cell_type": "markdown",
   "metadata": {},
   "source": [
    "* O Teorema de Bayes diz que a distribuição posterior para p é novamente ua distribuição Beta mas com alpha + h (caras) e beta + t (coroas) (Para o exemplo do lançamento da moeda).\n",
    "* O uso da inferência Bayesiana para testar hipóteses é considerado um pouco controverso — em parte porque sua matemática pode se tornar complicada e, em parte, por causa da natureza subjetiva de se escolher uma anterior."
   ]
  }
 ],
 "metadata": {
  "kernelspec": {
   "display_name": "Python 3",
   "language": "python",
   "name": "python3"
  },
  "language_info": {
   "codemirror_mode": {
    "name": "ipython",
    "version": 3
   },
   "file_extension": ".py",
   "mimetype": "text/x-python",
   "name": "python",
   "nbconvert_exporter": "python",
   "pygments_lexer": "ipython3",
   "version": "3.7.4"
  }
 },
 "nbformat": 4,
 "nbformat_minor": 2
}
